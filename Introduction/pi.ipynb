{
 "cells": [
  {
   "cell_type": "markdown",
   "metadata": {},
   "source": [
    "# 出題内容\n",
    "πの近似式を以下に示す。この方程式で有効数字の桁数として13桁の精度を確保可能である。この方程式の計算値を返す関数solv()を実装せよ。\n",
    "\n",
    "![数式](Introduction_pi_eq.JPG)"
   ]
  },
  {
   "cell_type": "code",
   "execution_count": 2,
   "metadata": {},
   "outputs": [
    {
     "name": "stdout",
     "output_type": "stream",
     "text": [
      "3.141592653589801 3.141592653589793\n"
     ]
    }
   ],
   "source": [
    "# 解答例\n",
    "import numpy as np   # 計算結果をnumpyと比較するためにimport\n",
    "\n",
    "def solv():\n",
    "    s = 10\n",
    "    for n in range(1, 1000):\n",
    "        s -= 1 / (n**3 * (n+1)**3)\n",
    "    \n",
    "    return s ** 0.5\n",
    "    \n",
    "print(solv(), np.pi)\n"
   ]
  },
  {
   "cell_type": "code",
   "execution_count": null,
   "metadata": {
    "collapsed": true
   },
   "outputs": [],
   "source": []
  }
 ],
 "metadata": {
  "kernelspec": {
   "display_name": "Python 3",
   "language": "python",
   "name": "python3"
  },
  "language_info": {
   "codemirror_mode": {
    "name": "ipython",
    "version": 3
   },
   "file_extension": ".py",
   "mimetype": "text/x-python",
   "name": "python",
   "nbconvert_exporter": "python",
   "pygments_lexer": "ipython3",
   "version": "3.6.1"
  }
 },
 "nbformat": 4,
 "nbformat_minor": 2
}
