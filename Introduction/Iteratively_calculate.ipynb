{
 "cells": [
  {
   "attachments": {},
   "cell_type": "markdown",
   "metadata": {},
   "source": [
    "# 出題内容\n",
    "z = 10 log (x/y)を計算する関数を繰り返し呼び出し、計算結果を表示せよ。 なお、関数に渡すxとyはx_arrとy_arrから取り出すものとする。"
   ]
  },
  {
   "cell_type": "code",
   "execution_count": 4,
   "metadata": {
    "collapsed": true
   },
   "outputs": [],
   "source": [
    "# ひな形\n",
    "\n",
    "def test(x, y):\n",
    "    z = 100 # ここに式を書く\n",
    "    return z\n",
    "\n",
    "def main():\n",
    "    x_arr = [45,16,75,43,63,99,94,27,11,5]\n",
    "    y_arr = [146,535,51,859,13,614,67,890,715,180]\n",
    "    # どうにかして、testを繰り返し呼び出す\n",
    "        \n",
    "if __name__ == \"__main__\":\n",
    "    main()"
   ]
  },
  {
   "cell_type": "code",
   "execution_count": 5,
   "metadata": {},
   "outputs": [
    {
     "name": "stdout",
     "output_type": "stream",
     "text": [
      "-5.11140342009\n",
      "-15.2423379937\n",
      "1.67491087294\n",
      "-13.0052470825\n",
      "6.85397197147\n",
      "-7.92533176544\n",
      "1.47053050899\n",
      "-15.1802624249\n",
      "-18.1291335664\n",
      "-15.5630250077\n"
     ]
    }
   ],
   "source": [
    "# 解答例\n",
    "import numpy as np # importで取り込んだライブラリ名はasで別名を付けることができる\n",
    "\n",
    "def test(x, y):\n",
    "    z = 10 * np.log10(x / y)\n",
    "    return z\n",
    "\n",
    "def main():\n",
    "    x_arr = [45,16,75,43,63,99,94,27,11,5]\n",
    "    y_arr = [146,535,51,859,13,614,67,890,715,180]\n",
    "    for i in range(len(x_arr)):\n",
    "        x = x_arr[i]\n",
    "        y = y_arr[i]\n",
    "        print(test(x, y))\n",
    "        \n",
    "if __name__ == \"__main__\":\n",
    "    main()"
   ]
  },
  {
   "cell_type": "code",
   "execution_count": 6,
   "metadata": {},
   "outputs": [
    {
     "name": "stdout",
     "output_type": "stream",
     "text": [
      "-5.11140342009\n",
      "-15.2423379937\n",
      "1.67491087294\n",
      "-13.0052470825\n",
      "6.85397197147\n",
      "-7.92533176544\n",
      "1.47053050899\n",
      "-15.1802624249\n",
      "-18.1291335664\n",
      "-15.5630250077\n"
     ]
    }
   ],
   "source": [
    "# 解答例\n",
    "import numpy as np # importで取り込んだライブラリ名はasで別名を付けることができる\n",
    "\n",
    "def test(x, y):\n",
    "    z = 10 * np.log10(x / y)\n",
    "    return z\n",
    "\n",
    "def main():\n",
    "    x_arr = [45,16,75,43,63,99,94,27,11,5]\n",
    "    y_arr = [146,535,51,859,13,614,67,890,715,180]\n",
    "    for x, y in zip(x_arr, y_arr): # zipでひとまとめにして、その要素を順に取り出す\n",
    "        print(test(x, y))\n",
    "        \n",
    "if __name__ == \"__main__\":\n",
    "    main()"
   ]
  },
  {
   "cell_type": "code",
   "execution_count": null,
   "metadata": {
    "collapsed": true
   },
   "outputs": [],
   "source": []
  }
 ],
 "metadata": {
  "kernelspec": {
   "display_name": "Python 3",
   "language": "python",
   "name": "python3"
  },
  "language_info": {
   "codemirror_mode": {
    "name": "ipython",
    "version": 3
   },
   "file_extension": ".py",
   "mimetype": "text/x-python",
   "name": "python",
   "nbconvert_exporter": "python",
   "pygments_lexer": "ipython3",
   "version": "3.6.1"
  }
 },
 "nbformat": 4,
 "nbformat_minor": 2
}
