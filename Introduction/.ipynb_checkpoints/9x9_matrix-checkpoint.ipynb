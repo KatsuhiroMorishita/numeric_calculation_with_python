{
 "cells": [
  {
   "cell_type": "markdown",
   "metadata": {},
   "source": [
    "# 出題内容\n",
    "for文を使って、下記の九九の表を表示せよ。  \n",
    "\n",
    "1\t2\t3\t4\t5\t6\t7\t8\t9  \n",
    "2\t4\t6\t8\t10\t12\t14\t16\t18  \n",
    "3\t6\t9\t12\t15\t18\t21\t24\t27  \n",
    "4\t8\t12\t16\t20\t24\t28\t32\t36  \n",
    "5\t10\t15\t20\t25\t30\t35\t40\t45  \n",
    "6\t12\t18\t24\t30\t36\t42\t48\t54  \n",
    "7\t14\t21\t28\t35\t42\t49\t56\t63  \n",
    "8\t16\t24\t32\t40\t48\t56\t64\t72  \n",
    "9\t18\t27\t36\t45\t54\t63\t72\t81"
   ]
  },
  {
   "cell_type": "code",
   "execution_count": 1,
   "metadata": {},
   "outputs": [
    {
     "name": "stdout",
     "output_type": "stream",
     "text": [
      "どうにかして表示\n"
     ]
    }
   ],
   "source": [
    "# ひな形\n",
    "def test():\n",
    "    print(\"どうにかして表示\")\n",
    "\n",
    "def main():\n",
    "    test()\n",
    "        \n",
    "if __name__ == \"__main__\":\n",
    "    main()"
   ]
  },
  {
   "cell_type": "code",
   "execution_count": 3,
   "metadata": {},
   "outputs": [
    {
     "name": "stdout",
     "output_type": "stream",
     "text": [
      "1\t2\t3\t4\t5\t6\t7\t8\t9\n",
      "2\t4\t6\t8\t10\t12\t14\t16\t18\n",
      "3\t6\t9\t12\t15\t18\t21\t24\t27\n",
      "4\t8\t12\t16\t20\t24\t28\t32\t36\n",
      "5\t10\t15\t20\t25\t30\t35\t40\t45\n",
      "6\t12\t18\t24\t30\t36\t42\t48\t54\n",
      "7\t14\t21\t28\t35\t42\t49\t56\t63\n",
      "8\t16\t24\t32\t40\t48\t56\t64\t72\n",
      "9\t18\t27\t36\t45\t54\t63\t72\t81\n"
     ]
    }
   ],
   "source": [
    "# 解答例　その1\n",
    "def test():\n",
    "    for i in range(1, 10):\n",
    "        row = [str(i*j) for j in range(1, 10)]   # リスト内包表記。str()は組み込み関数で、引数を文字列に変換する。\n",
    "        print(\"\\t\".join(row))   # タブでrowの要素を結合して表示。¥tはタブ文字。改行コードは¥nだが、その仲間\n",
    "\n",
    "def main():\n",
    "    test()\n",
    "        \n",
    "if __name__ == \"__main__\":\n",
    "    main()"
   ]
  },
  {
   "cell_type": "code",
   "execution_count": 1,
   "metadata": {},
   "outputs": [
    {
     "name": "stdout",
     "output_type": "stream",
     "text": [
      "1\t2\t3\t4\t5\t6\t7\t8\t9\n",
      "2\t4\t6\t8\t10\t12\t14\t16\t18\n",
      "3\t6\t9\t12\t15\t18\t21\t24\t27\n",
      "4\t8\t12\t16\t20\t24\t28\t32\t36\n",
      "5\t10\t15\t20\t25\t30\t35\t40\t45\n",
      "6\t12\t18\t24\t30\t36\t42\t48\t54\n",
      "7\t14\t21\t28\t35\t42\t49\t56\t63\n",
      "8\t16\t24\t32\t40\t48\t56\t64\t72\n",
      "9\t18\t27\t36\t45\t54\t63\t72\t81\n"
     ]
    }
   ],
   "source": [
    "# 解答例　その2\n",
    "def test():\n",
    "    for i in range(1, 10):\n",
    "        row = []\n",
    "        for j in range(1, 10):\n",
    "            row.append(str(i * j))\n",
    "        print(\"\\t\".join(row))   # タブでrowの要素を結合して表示。¥tはタブ文字。改行コードは¥nだが、その仲間\n",
    "\n",
    "def main():\n",
    "    test()\n",
    "        \n",
    "if __name__ == \"__main__\":\n",
    "    main()"
   ]
  },
  {
   "cell_type": "code",
   "execution_count": null,
   "metadata": {},
   "outputs": [],
   "source": []
  }
 ],
 "metadata": {
  "kernelspec": {
   "display_name": "Python 3",
   "language": "python",
   "name": "python3"
  },
  "language_info": {
   "codemirror_mode": {
    "name": "ipython",
    "version": 3
   },
   "file_extension": ".py",
   "mimetype": "text/x-python",
   "name": "python",
   "nbconvert_exporter": "python",
   "pygments_lexer": "ipython3",
   "version": "3.6.5"
  }
 },
 "nbformat": 4,
 "nbformat_minor": 2
}
