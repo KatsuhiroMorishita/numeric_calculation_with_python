{
 "cells": [
  {
   "cell_type": "markdown",
   "metadata": {},
   "source": [
    "# 出題内容\n",
    "z = 10 log (x/y)を計算する関数を実装せよ。ここで、引数はxとyであり、返り値はzとする。  "
   ]
  },
  {
   "cell_type": "code",
   "execution_count": 1,
   "metadata": {},
   "outputs": [
    {
     "name": "stdout",
     "output_type": "stream",
     "text": [
      "100\n"
     ]
    }
   ],
   "source": [
    "# ひな形\n",
    "\n",
    "def test(x, y):\n",
    "    z = 100 # ここに式を書く\n",
    "    return z\n",
    "\n",
    "def main():\n",
    "    print(test(10, 20))\n",
    "        \n",
    "if __name__ == \"__main__\":\n",
    "    main()"
   ]
  },
  {
   "cell_type": "code",
   "execution_count": 5,
   "metadata": {},
   "outputs": [
    {
     "name": "stdout",
     "output_type": "stream",
     "text": [
      "-3.010299956639812\n"
     ]
    }
   ],
   "source": [
    "# 解答例\n",
    "import math # mathを使ってみる\n",
    "\n",
    "def test(x, y):\n",
    "    z = 10 * math.log10(x / y) # 対数の計算では、底が何か意識する\n",
    "    return z\n",
    "\n",
    "def main():\n",
    "    print(test(10, 20))\n",
    "        \n",
    "if __name__ == \"__main__\":\n",
    "    main()"
   ]
  },
  {
   "cell_type": "code",
   "execution_count": 6,
   "metadata": {},
   "outputs": [
    {
     "name": "stdout",
     "output_type": "stream",
     "text": [
      "-3.01029995664\n"
     ]
    }
   ],
   "source": [
    "# 解答例\n",
    "import numpy\n",
    "\n",
    "def test(x, y):\n",
    "    z = 10 * numpy.log10(x / y)\n",
    "    return z\n",
    "\n",
    "def main():\n",
    "    print(test(10, 20))\n",
    "        \n",
    "if __name__ == \"__main__\":\n",
    "    main()"
   ]
  },
  {
   "cell_type": "code",
   "execution_count": 7,
   "metadata": {},
   "outputs": [
    {
     "name": "stdout",
     "output_type": "stream",
     "text": [
      "-3.01029995664\n"
     ]
    }
   ],
   "source": [
    "# 解答例\n",
    "import numpy as np # importで取り込んだライブラリ名はasで別名を付けることができる\n",
    "\n",
    "def test(x, y):\n",
    "    z = 10 * np.log10(x / y)\n",
    "    return z\n",
    "\n",
    "def main():\n",
    "    print(test(10, 20))\n",
    "        \n",
    "if __name__ == \"__main__\":\n",
    "    main()"
   ]
  },
  {
   "cell_type": "code",
   "execution_count": null,
   "metadata": {
    "collapsed": true
   },
   "outputs": [],
   "source": []
  }
 ],
 "metadata": {
  "kernelspec": {
   "display_name": "Python 3",
   "language": "python",
   "name": "python3"
  },
  "language_info": {
   "codemirror_mode": {
    "name": "ipython",
    "version": 3
   },
   "file_extension": ".py",
   "mimetype": "text/x-python",
   "name": "python",
   "nbconvert_exporter": "python",
   "pygments_lexer": "ipython3",
   "version": "3.6.1"
  }
 },
 "nbformat": 4,
 "nbformat_minor": 2
}
