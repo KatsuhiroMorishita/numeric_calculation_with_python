{
 "cells": [
  {
   "cell_type": "markdown",
   "metadata": {},
   "source": [
    "# 出題内容\n",
    "xのn次関数はy=a_n x^n + …という形をしている。式(1)\n",
    "\n",
    "![数式](Introduction_nth_order_function_eq.JPG)\n",
    "\n",
    "ここで、係数𝑎_𝑖を配列（list型変数）に入れておくものとする。\n",
    "その配列の要素番号𝑖は指数𝑖でもある。  \n",
    "\n",
    "例：𝑦 = 3𝑥^5 + 5𝑥^4 − 7𝑥^3 + 2𝑥^2 − 𝑥 + 3なら、cof = [3, -1, 2, -7, 5, 3]である。  \n",
    "\n",
    "𝑥で1階微分した関数の係数𝑎_𝑖'を計算する関数を実装せよ。\n",
    "（係数の理論解をプログラムで表せばよい）"
   ]
  },
  {
   "cell_type": "code",
   "execution_count": 1,
   "metadata": {},
   "outputs": [
    {
     "name": "stdout",
     "output_type": "stream",
     "text": [
      "[-1, 4, -21, 20, 15]\n"
     ]
    }
   ],
   "source": [
    "# 解答例\n",
    "\n",
    "def get_diff_cof(cof):\n",
    "    ans = []\n",
    "    for i in range(1, len(cof)):\n",
    "        ans.append(cof[i] * i)\n",
    "    return ans\n",
    "\n",
    "a = [3, -1, 2, -7, 5, 3]  # テキトウな係数\n",
    "print(get_diff_cof(a))\n"
   ]
  },
  {
   "cell_type": "markdown",
   "metadata": {},
   "source": [
    "↑微分した後の係数が並んでいることが分かる。"
   ]
  },
  {
   "cell_type": "code",
   "execution_count": null,
   "metadata": {
    "collapsed": true
   },
   "outputs": [],
   "source": []
  }
 ],
 "metadata": {
  "kernelspec": {
   "display_name": "Python 3",
   "language": "python",
   "name": "python3"
  },
  "language_info": {
   "codemirror_mode": {
    "name": "ipython",
    "version": 3
   },
   "file_extension": ".py",
   "mimetype": "text/x-python",
   "name": "python",
   "nbconvert_exporter": "python",
   "pygments_lexer": "ipython3",
   "version": "3.6.1"
  }
 },
 "nbformat": 4,
 "nbformat_minor": 2
}
