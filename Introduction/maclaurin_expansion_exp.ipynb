{
 "cells": [
  {
   "cell_type": "markdown",
   "metadata": {},
   "source": [
    "# 出題内容\n",
    "exp(x)はe^xを表す関数で、Pythonではmathモジュールやnumpyにすでに実装されている。ここでは、マクローリン展開を用いて計算する関数my_exp()を実装せよ。"
   ]
  },
  {
   "cell_type": "code",
   "execution_count": 1,
   "metadata": {},
   "outputs": [
    {
     "name": "stdout",
     "output_type": "stream",
     "text": [
      "2.6881171418161356e+43 2.68811714182e+43\n",
      "-2.8756582514726483e+26 3.72007597602e-44\n"
     ]
    }
   ],
   "source": [
    "# 解答例\n",
    "import numpy as np\n",
    "\n",
    "\n",
    "def kaijo(k): # kの階乗を返す\n",
    "    ans = 1\n",
    "    for i in range(1, k+1):\n",
    "        ans *= i\n",
    "    return ans\n",
    "\n",
    "def my_exp(x):\n",
    "    ans = 0.0\n",
    "    for i in range(1000):\n",
    "        ans += (x**i) / kaijo(i)\n",
    "    return ans\n",
    "\n",
    "print(my_exp(100), np.exp(100)) # numpyのexpと比較\n",
    "print(my_exp(-100), np.exp(-100)) # 左側の精度が悪い"
   ]
  },
  {
   "cell_type": "code",
   "execution_count": 2,
   "metadata": {},
   "outputs": [
    {
     "name": "stdout",
     "output_type": "stream",
     "text": [
      "2.6881171418161356e+43 2.68811714182e+43\n",
      "3.7200759760208356e-44 3.72007597602e-44\n"
     ]
    }
   ],
   "source": [
    "# 解答例　こちらの方がx<0での精度が良い\n",
    "import numpy as np\n",
    "\n",
    "\n",
    "def kaijo(k):\n",
    "    ans = 1\n",
    "    for i in range(1, k+1):\n",
    "        ans *= i\n",
    "    return ans\n",
    "\n",
    "def my_exp(x):\n",
    "    _x = abs(x)\n",
    "    ans = 0.0\n",
    "    for i in range(1000):\n",
    "        ans += (_x**i) / kaijo(i)\n",
    "    if x < 0:\n",
    "        ans = 1 / ans\n",
    "    return ans\n",
    "\n",
    "print(my_exp(100), np.exp(100))\n",
    "print(my_exp(-100), np.exp(-100)) # 左側の精度が良い"
   ]
  },
  {
   "cell_type": "code",
   "execution_count": null,
   "metadata": {
    "collapsed": true
   },
   "outputs": [],
   "source": []
  }
 ],
 "metadata": {
  "kernelspec": {
   "display_name": "Python 3",
   "language": "python",
   "name": "python3"
  },
  "language_info": {
   "codemirror_mode": {
    "name": "ipython",
    "version": 3
   },
   "file_extension": ".py",
   "mimetype": "text/x-python",
   "name": "python",
   "nbconvert_exporter": "python",
   "pygments_lexer": "ipython3",
   "version": "3.6.1"
  }
 },
 "nbformat": 4,
 "nbformat_minor": 2
}
