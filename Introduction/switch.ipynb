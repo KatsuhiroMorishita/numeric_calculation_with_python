{
 "cells": [
  {
   "cell_type": "markdown",
   "metadata": {},
   "source": [
    "# 出題内容\n",
    "以下の様に、変数が2つある。aとbの値を交換せよ。この例であれば、aに200が入ってbに100が入れば成功である。なお、値が100や200以外でも処理は正常に行われること。  \n",
    "\n",
    "a = 100  \n",
    "b = 200"
   ]
  },
  {
   "cell_type": "code",
   "execution_count": 2,
   "metadata": {},
   "outputs": [
    {
     "name": "stdout",
     "output_type": "stream",
     "text": [
      "100 200\n"
     ]
    }
   ],
   "source": [
    "a = 100\n",
    "b = 200\n",
    "\n",
    "# 何か処理\n",
    "\n",
    "print(a, b) # ここで入れ替わっていればOK"
   ]
  },
  {
   "cell_type": "code",
   "execution_count": 1,
   "metadata": {},
   "outputs": [
    {
     "name": "stdout",
     "output_type": "stream",
     "text": [
      "200 100\n"
     ]
    }
   ],
   "source": [
    "# 解答例\n",
    "\n",
    "a = 100\n",
    "b = 200\n",
    "\n",
    "c = b # 他の言語でも通用する書き方。ただ、Pythonなどではややダサい\n",
    "b = a\n",
    "a = c\n",
    "\n",
    "print(a, b)"
   ]
  },
  {
   "cell_type": "code",
   "execution_count": 3,
   "metadata": {},
   "outputs": [
    {
     "name": "stdout",
     "output_type": "stream",
     "text": [
      "200 100\n"
     ]
    }
   ],
   "source": [
    "# 解答例\n",
    "\n",
    "a = 100\n",
    "b = 200\n",
    "\n",
    "a, b = b, a # タプルを使うという手もある。右辺はタプル化されて、その要素が左辺に分配される\n",
    "\n",
    "print(a, b)"
   ]
  },
  {
   "cell_type": "code",
   "execution_count": null,
   "metadata": {
    "collapsed": true
   },
   "outputs": [],
   "source": []
  }
 ],
 "metadata": {
  "kernelspec": {
   "display_name": "Python 3",
   "language": "python",
   "name": "python3"
  },
  "language_info": {
   "codemirror_mode": {
    "name": "ipython",
    "version": 3
   },
   "file_extension": ".py",
   "mimetype": "text/x-python",
   "name": "python",
   "nbconvert_exporter": "python",
   "pygments_lexer": "ipython3",
   "version": "3.6.1"
  }
 },
 "nbformat": 4,
 "nbformat_minor": 2
}
