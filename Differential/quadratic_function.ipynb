{
 "cells": [
  {
   "cell_type": "markdown",
   "metadata": {},
   "source": [
    "# 出題内容\n",
    "y = ax^2 + bx + c  \n",
    "ここで、係数a,b,cは0以外の任意の定数とし、xは変数である。  \n",
    "（^で指数を表現しているが、プログラム中では指数の演算子は異なるので注意）\n",
    "\n",
    "(1) xについて1階微分する関数を作成せよ。  \n",
    "(2) xについて2階微分する関数を作成せよ。  \n",
    "(3) y=0の実数解が存在することを確認する関数を実装せよ。  \n",
    "(4) -10 >= x >= 10においてグラフを作成せよ。"
   ]
  },
  {
   "cell_type": "code",
   "execution_count": 12,
   "metadata": {
    "collapsed": false
   },
   "outputs": [
    {
     "name": "stdout",
     "output_type": "stream",
     "text": [
      "39 -15.998000000010393\n",
      "25 -11.997999999998399\n",
      "15 -7.997999999998839\n",
      "9 -3.99799999999928\n",
      "7 0.002000000000279556\n",
      "9 4.001999999999839\n",
      "15 8.001999999999398\n",
      "25 12.001999999998958\n",
      "39 16.002000000000294\n",
      "57 20.002000000005182\n"
     ]
    }
   ],
   "source": [
    "# (1)の解答例\n",
    "# 関数diffが「1階微分する関数」である。\n",
    "\n",
    "a, b, c = 2, 4, 9  # 係数をテキトウに代入\n",
    "\n",
    "def equation(x):\n",
    "    return a * x**2 + b * x + c\n",
    "\n",
    "def diff(f, x, dx):                      # 関数fのxにおける微分値を返す。fは微分したい方程式の値を返す関数\n",
    "    return (f(x + dx) - f(x)) / dx\n",
    "\n",
    "def main():\n",
    "    # 複数のxにおける、関数fの値と1階微分値を表示\n",
    "    for x in range(-5, 5):                                   \n",
    "        print(equation(x), diff(equation, x, 0.001)) \n",
    "        \n",
    "if __name__ == \"__main__\":\n",
    "    main()\n"
   ]
  },
  {
   "cell_type": "code",
   "execution_count": 13,
   "metadata": {
    "collapsed": false
   },
   "outputs": [
    {
     "name": "stdout",
     "output_type": "stream",
     "text": [
      "39 4.000000011217253\n",
      "25 4.000000000559112\n",
      "15 4.000000000559112\n",
      "9 4.000000000559112\n",
      "7 3.9999999996709334\n",
      "9 4.000000000559112\n",
      "15 3.999999998782755\n",
      "25 3.999999997006398\n",
      "39 3.999999997006398\n",
      "57 4.0000000041118255\n"
     ]
    }
   ],
   "source": [
    "# (2)の解答例\n",
    "# diff2が2階微分する関数\n",
    "\n",
    "a, b, c = 2, 4, 9  # 係数をテキトウに代入\n",
    "\n",
    "def equation(x):\n",
    "    return a * x**2 + b * x + c\n",
    "\n",
    "def diff(f, x, dx):       # 1階微分\n",
    "    return (f(x + dx) - f(x)) / dx\n",
    "\n",
    "def diff2(f, x, dx):       # 2階微分\n",
    "    return (diff(f, x + dx, dx) - diff(f, x, dx)) / dx\n",
    "\n",
    "def main():\n",
    "    # 複数のxにおける、関数fの値と2階微分値を表示\n",
    "    for x in range(-5, 5):                                   \n",
    "        print(equation(x), diff2(equation, x, 0.001)) \n",
    "        \n",
    "if __name__ == \"__main__\":\n",
    "    main()"
   ]
  },
  {
   "cell_type": "code",
   "execution_count": 14,
   "metadata": {
    "collapsed": false
   },
   "outputs": [
    {
     "name": "stdout",
     "output_type": "stream",
     "text": [
      "39 4.000000011217253\n",
      "25 4.000000000559112\n",
      "15 4.000000000559112\n",
      "9 4.000000000559112\n",
      "7 3.9999999996709334\n",
      "9 4.000000000559112\n",
      "15 3.999999998782755\n",
      "25 3.999999997006398\n",
      "39 3.999999997006398\n",
      "57 4.0000000041118255\n"
     ]
    }
   ],
   "source": [
    "# (2)の解答例\n",
    "# ２階微分する関数は作らなかったが、n階微分ができる関数を作った例\n",
    "# 再帰は余り多用すべきものではないが、、、\n",
    "# こんな書き方も在るということを認識しておく程度で良い\n",
    "import numpy as np\n",
    "\n",
    "a, b, c = 2, 4, 9  # 係数をテキトウに代入\n",
    "\n",
    "def equation(x):\n",
    "    return a * x**2 + b * x + c\n",
    "\n",
    "def diff(f, x, dx, n):       # n階微分値を返す\n",
    "    n -= 1\n",
    "    if n == 0:\n",
    "        return (f(x + dx) - f(x)) / dx\n",
    "    else:\n",
    "        return (diff(f, x+dx, dx, n) - diff(f, x, dx, n)) / dx # 再帰構造\n",
    "\n",
    "def main():\n",
    "    # 複数のxにおける、関数fの値と2階微分値を表示\n",
    "    for x in range(-5, 5):                                   \n",
    "        print(equation(x), diff(equation, x, 0.001, 2)) \n",
    "        \n",
    "if __name__ == \"__main__\":\n",
    "    main()"
   ]
  },
  {
   "cell_type": "code",
   "execution_count": 11,
   "metadata": {
    "collapsed": false
   },
   "outputs": [
    {
     "name": "stdout",
     "output_type": "stream",
     "text": [
      "False\n"
     ]
    }
   ],
   "source": [
    "# (3)の解答例\n",
    "# ２時方程式の解の公式を用いて、y=0の解が存在するか確認する\n",
    "# 参考：https://ja.wikipedia.org/wiki/%E4%BA%8C%E6%AC%A1%E6%96%B9%E7%A8%8B%E5%BC%8F%E3%81%AE%E8%A7%A3%E3%81%AE%E5%85%AC%E5%BC%8F\n",
    "\n",
    "a, b, c = 2, 4, 9  # 係数をテキトウに代入\n",
    "\n",
    "def is_solveable(_a, _b, _c):   # 2次方程式に実数解が在るか返す. true: 実数解は在る\n",
    "    d = _b**2 - 4 * _a * _c         # 解の公式の、√の部分\n",
    "    return d > 0                            # dが正なら解が存在する\n",
    "\n",
    "def main():\n",
    "    print(is_solveable(a, b, c))\n",
    "        \n",
    "if __name__ == \"__main__\":\n",
    "    main()"
   ]
  },
  {
   "cell_type": "code",
   "execution_count": 16,
   "metadata": {
    "collapsed": false
   },
   "outputs": [
    {
     "data": {
      "image/png": "[encoded data removed]",
      "text/plain": [
       "<matplotlib.figure.Figure at 0x106876978>"
      ]
     },
     "metadata": {},
     "output_type": "display_data"
    }
   ],
   "source": [
    "# (4)の解答例\n",
    "import numpy as np\n",
    "import matplotlib.pyplot as plt\n",
    "\n",
    "a, b, c = 2, 4, 9  # 係数をテキトウに代入\n",
    "\n",
    "def equation(x):\n",
    "    return a * x**2 + b * x + c\n",
    "\n",
    "\n",
    "def show_graph(f, x1, x2, dx): # 渡された関数でグラフを作成する\n",
    "    x = np.arange(x1, x2, dx)\n",
    "    y = f(x)\n",
    "    \n",
    "    plt.plot(x, y)\n",
    "    plt.grid()\n",
    "    plt.show()\n",
    "\n",
    "def main():\n",
    "    show_graph(equation, -10, 10, 0.01)\n",
    "    \n",
    "        \n",
    "if __name__ == \"__main__\":\n",
    "    main()"
   ]
  },
  {
   "cell_type": "code",
   "execution_count": null,
   "metadata": {
    "collapsed": true
   },
   "outputs": [],
   "source": []
  }
 ],
 "metadata": {
  "kernelspec": {
   "display_name": "Python 3",
   "language": "python",
   "name": "python3"
  },
  "language_info": {
   "codemirror_mode": {
    "name": "ipython",
    "version": 3
   },
   "file_extension": ".py",
   "mimetype": "text/x-python",
   "name": "python",
   "nbconvert_exporter": "python",
   "pygments_lexer": "ipython3",
   "version": "3.6.0"
  }
 },
 "nbformat": 4,
 "nbformat_minor": 2
}
