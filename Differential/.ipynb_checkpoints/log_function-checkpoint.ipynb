{
 "cells": [
  {
   "cell_type": "markdown",
   "metadata": {},
   "source": [
    "# 出題内容\n",
    "z = 10 ln (x)という関数（対数の底はe）の微分値を返す関数を実装せよ。引数はxとする。"
   ]
  },
  {
   "cell_type": "code",
   "execution_count": 10,
   "metadata": {},
   "outputs": [
    {
     "name": "stdout",
     "output_type": "stream",
     "text": [
      "どうにかして、z = 10 log (x)の微分値を返す\n"
     ]
    }
   ],
   "source": [
    "# ひな形\n",
    "\n",
    "def diff():\n",
    "    return \"どうにかして、z = 10 log (x)の微分値を返す\"\n",
    "\n",
    "def main():\n",
    "    print(diff())\n",
    "        \n",
    "if __name__ == \"__main__\":\n",
    "    main()"
   ]
  },
  {
   "cell_type": "code",
   "execution_count": 11,
   "metadata": {},
   "outputs": [
    {
     "name": "stdout",
     "output_type": "stream",
     "text": [
      "9.99500333083 10.0\n",
      "4.99875041651 5.0\n",
      "3.3327779012 3.3333333333333335\n",
      "2.49968755208 2.5\n",
      "1.99980002666 2.0\n",
      "1.66652779321 1.6666666666666667\n",
      "1.42846939747 1.4285714285714286\n",
      "1.24992188151 1.25\n",
      "1.11104938729 1.1111111111111112\n"
     ]
    }
   ],
   "source": [
    "# 解答例\n",
    "import numpy as np\n",
    "\n",
    "def equation(x):\n",
    "    return 10 * np.log(x)\n",
    "\n",
    "def diff(func, x, dx): # funcは微分したい方程式の値を返す関数\n",
    "    return (func(x + dx) - func(x)) / dx\n",
    "\n",
    "def main():\n",
    "    for x in range(1, 10): # 複数のxに対して計算結果を表示させる\n",
    "        print(diff(equation, x, 0.001), 10/x) # 10/xは理論値\n",
    "        \n",
    "if __name__ == \"__main__\":\n",
    "    main()"
   ]
  },
  {
   "cell_type": "markdown",
   "metadata": {},
   "source": [
    "↑解析解と、数値解に違いがほとんどないことが分かる"
   ]
  },
  {
   "cell_type": "code",
   "execution_count": null,
   "metadata": {
    "collapsed": true
   },
   "outputs": [],
   "source": []
  }
 ],
 "metadata": {
  "kernelspec": {
   "display_name": "Python 3",
   "language": "python",
   "name": "python3"
  },
  "language_info": {
   "codemirror_mode": {
    "name": "ipython",
    "version": 3
   },
   "file_extension": ".py",
   "mimetype": "text/x-python",
   "name": "python",
   "nbconvert_exporter": "python",
   "pygments_lexer": "ipython3",
   "version": "3.6.1"
  }
 },
 "nbformat": 4,
 "nbformat_minor": 2
}
