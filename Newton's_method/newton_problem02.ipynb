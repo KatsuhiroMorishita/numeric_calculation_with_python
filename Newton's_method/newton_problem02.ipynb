{
 "cells": [
  {
   "cell_type": "markdown",
   "metadata": {},
   "source": [
    "# 出題内容\n",
    "以下に示す2つの式の交点の座標𝑥を1つ求めよ。ここで、xの初期値は0.3とする。\n",
    "\n",
    "![数式](newton_p02_1.JPG)\n",
    "\n",
    "ヒント\n",
    "* まず各グラフを描いて、解があることを確認しておいた方が良い\n",
    "* [numpyに実装されたsinの逆関数](https://docs.scipy.org/doc/numpy-1.13.0/reference/generated/numpy.arcsin.html)\n",
    "* [numpyに実装されたtanの逆関数](https://docs.scipy.org/doc/numpy-1.13.0/reference/generated/numpy.arctan.html)\n",
    "* arctanには引数を2つ取るarctan2もある\n"
   ]
  },
  {
   "cell_type": "code",
   "execution_count": 4,
   "metadata": {
    "collapsed": false
   },
   "outputs": [
    {
     "data": {
      "image/png": "[encoded data removed]",
      "text/plain": [
       "<matplotlib.figure.Figure at 0x107bf3400>"
      ]
     },
     "metadata": {},
     "output_type": "display_data"
    }
   ],
   "source": [
    "# 連立方程式(1)の解答例\n",
    "# セルをまたぐので注意\n",
    "import numpy as np\n",
    "import matplotlib.pyplot as plt\n",
    "\n",
    "\n",
    "def f(x):\n",
    "    return np.arcsin(3*x)   # arc sinの定義域が-1<= この範囲 <=1　であることに注意\n",
    "\n",
    "def g(x):\n",
    "    return 2 * np.arctan(x ** 0.5)  # x >= 0でないと、√xは複素解となり、エラーとなる\n",
    "\n",
    "def plot_graph(func, x1, x2, dx, color):\n",
    "    \"\"\" 関数のグラフを作成するが、描画はしない（重ね書きするかどうかはコントロールしたい）\n",
    "    \"\"\"\n",
    "    x = np.arange(x1, x2, dx)\n",
    "    y_f = func(x)\n",
    "    plt.plot(x, y_f, c=color)\n",
    "    plt.grid()  # なぜか、グリッドは表示されたりされなかったり・・・\n",
    "    \n",
    "# まず、関数のグラフを確認\n",
    "plot_graph(f, -1/3, 1/3, 0.001, \"red\")  \n",
    "plot_graph(g, 0, 1/3, 0.001, \"blue\")\n",
    "plt.show()"
   ]
  },
  {
   "cell_type": "markdown",
   "metadata": {
    "collapsed": true
   },
   "source": [
    "↑グラフを見ると、交点が2か所存在する。ただ、1点は関数の定義域の端であるx = 0で交差しており、この点がニュートン法で求まるかは不明だ。"
   ]
  },
  {
   "cell_type": "code",
   "execution_count": 5,
   "metadata": {
    "collapsed": false
   },
   "outputs": [
    {
     "name": "stdout",
     "output_type": "stream",
     "text": [
      "0.273881213155 3\n"
     ]
    },
    {
     "data": {
      "text/plain": [
       "0.27388121315521724"
      ]
     },
     "execution_count": 5,
     "metadata": {},
     "output_type": "execute_result"
    }
   ],
   "source": [
    "# 解答例の続き\n",
    "\n",
    "def equation(x):\n",
    "    return f(x) - g(x)\n",
    "\n",
    "def diff(func, x, dx): # funcは微分したい方程式の値を返す関数\n",
    "    return (func(x + dx) - func(x)) / dx\n",
    "\n",
    "def calc_newton(func, x_init, dx): # 汎用ニュートン法で解を求める関数\n",
    "    x = x_init\n",
    "    y = float(\"inf\")\n",
    "    count = 0\n",
    "    e = 1.0\n",
    "\n",
    "    while abs(y) > 0.01 and count < 1000 and e > 0.00001:\n",
    "        y = func(x)\n",
    "        dydx = diff(func, x, dx)\n",
    "        new_x = -y / dydx + x\n",
    "        e = abs(new_x - x) / (abs(x) + 0.0000000001)\n",
    "        x = new_x\n",
    "        count += 1\n",
    "\n",
    "    print(x, count) # 使う時にはコメントアウトした方が良い\n",
    "    return x\n",
    "\n",
    "# 交点の座標xを求める\n",
    "calc_newton(equation, 0.3, 0.001) # 関数の定義域と関数の性質から、xの初期値は限られた範囲しか取れない"
   ]
  },
  {
   "cell_type": "code",
   "execution_count": 6,
   "metadata": {
    "collapsed": false
   },
   "outputs": [
    {
     "data": {
      "image/png": "[encoded data removed]",
      "text/plain": [
       "<matplotlib.figure.Figure at 0x107ca3f28>"
      ]
     },
     "metadata": {},
     "output_type": "display_data"
    }
   ],
   "source": [
    "# 連立方程式(2)の解答例\n",
    "# セルをまたぐので注意\n",
    "# 上のセルを全て実行済みなら、うまくグラフが描画される\n",
    "import numpy as np\n",
    "import matplotlib.pyplot as plt\n",
    "\n",
    "\n",
    "def f2(x):\n",
    "    return 3 * x**2 + x - 5\n",
    "\n",
    "def g2(x):\n",
    "    return 7 * np.log10(x)  # 対数なので、x > 0でないとエラーとなる\n",
    "   \n",
    "# まず、関数のグラフを確認\n",
    "plot_graph(f2, -1/3, 3, 0.001, \"red\")  # 上のセルで定義した関数が（実行済みなら）呼び出される\n",
    "plot_graph(g2, 0.001, 3, 0.001, \"blue\")\n",
    "plt.show()"
   ]
  },
  {
   "cell_type": "markdown",
   "metadata": {},
   "source": [
    "↑グラフを見ると、交点が2か所存在する。"
   ]
  },
  {
   "cell_type": "code",
   "execution_count": 7,
   "metadata": {
    "collapsed": false
   },
   "outputs": [
    {
     "name": "stdout",
     "output_type": "stream",
     "text": [
      "0.217260630124 4\n"
     ]
    },
    {
     "data": {
      "text/plain": [
       "0.21726063012437813"
      ]
     },
     "execution_count": 7,
     "metadata": {},
     "output_type": "execute_result"
    }
   ],
   "source": [
    "# 解答例の続き\n",
    "# 上のセルを全て実行済みなら、うまく計算される\n",
    "\n",
    "def equation2(x):\n",
    "    return f2(x) - g2(x)\n",
    "\n",
    "# 交点の座標xを求める\n",
    "calc_newton(equation2, 0.3, 0.001) # 上のセルで定義した関数が（実行済みなら）呼び出される"
   ]
  },
  {
   "cell_type": "code",
   "execution_count": null,
   "metadata": {
    "collapsed": true
   },
   "outputs": [],
   "source": []
  }
 ],
 "metadata": {
  "kernelspec": {
   "display_name": "Python 3",
   "language": "python",
   "name": "python3"
  },
  "language_info": {
   "codemirror_mode": {
    "name": "ipython",
    "version": 3
   },
   "file_extension": ".py",
   "mimetype": "text/x-python",
   "name": "python",
   "nbconvert_exporter": "python",
   "pygments_lexer": "ipython3",
   "version": "3.6.0"
  }
 },
 "nbformat": 4,
 "nbformat_minor": 2
}
