{
 "cells": [
  {
   "cell_type": "markdown",
   "metadata": {},
   "source": [
    "# 出題内容\n",
    "y = 2x^3+5x^2-7x-5とy=3x+5の交点(x, y)を少なくとも1つ求めよ。  ここで、xの初期値は100とする。\n",
    "（指数表現に^を使っているが、Pythonでの累乗演算子は\\*\\*であることに注意）"
   ]
  },
  {
   "cell_type": "code",
   "execution_count": 2,
   "metadata": {
    "collapsed": false
   },
   "outputs": [
    {
     "name": "stdout",
     "output_type": "stream",
     "text": [
      "1.8049436743635043 13\n",
      "交点(x, y)は、 1.8049436743635043 10.4148718399472\n"
     ]
    },
    {
     "data": {
      "image/png": "[encoded data removed]",
      "text/plain": [
       "<matplotlib.figure.Figure at 0x109bf7f60>"
      ]
     },
     "metadata": {},
     "output_type": "display_data"
    }
   ],
   "source": [
    "# 解答例\n",
    "import numpy as np\n",
    "import matplotlib.pyplot as plt\n",
    "\n",
    "def f(x):\n",
    "    return 2 * x**3 + 5 * x**2 - 7 * x - 5\n",
    "\n",
    "def g(x):\n",
    "    return 3 * x + 5\n",
    "\n",
    "def equation(x):\n",
    "    return f(x) - g(x)\n",
    "\n",
    "def diff(func, x, dx): # funcは微分したい方程式の値を返す関数\n",
    "    return (func(x + dx) - func(x)) / dx\n",
    "\n",
    "def calc_newton(func, x_init, dx): # 汎用ニュートン法で解を求める関数\n",
    "    x = x_init\n",
    "    y = float(\"inf\")\n",
    "    count = 0\n",
    "    e = 1.0\n",
    "\n",
    "    while abs(y) > 0.01 and count < 1000 and e > 0.00001:\n",
    "        y = func(x)\n",
    "        dydx = diff(func, x, dx)\n",
    "        new_x = -y / dydx + x\n",
    "        e = abs(new_x - x) / (abs(x) + 0.0000000001)\n",
    "        x = new_x\n",
    "        count += 1\n",
    "\n",
    "    print(x, count) # 使う時にはコメントアウトした方が良い\n",
    "    return x\n",
    "\n",
    "\n",
    "def main():\n",
    "    pos_x = calc_newton(equation, 100, 0.01) # 交点のx座標\n",
    "    pos_y = f(pos_x)                         # 交点のy座標\n",
    "    print(\"交点(x, y)は、\", pos_x, pos_y)\n",
    "    \n",
    "    x = np.arange(-3, 3, 0.01)\n",
    "    y_f = f(x)\n",
    "    y_g = g(x)\n",
    "    plt.plot(x, y_f)\n",
    "    plt.plot(x, y_g)\n",
    "    plt.grid()\n",
    "    plt.show()\n",
    "        \n",
    "if __name__ == \"__main__\":\n",
    "    main()"
   ]
  },
  {
   "cell_type": "code",
   "execution_count": null,
   "metadata": {
    "collapsed": true
   },
   "outputs": [],
   "source": []
  }
 ],
 "metadata": {
  "kernelspec": {
   "display_name": "Python 3",
   "language": "python",
   "name": "python3"
  },
  "language_info": {
   "codemirror_mode": {
    "name": "ipython",
    "version": 3
   },
   "file_extension": ".py",
   "mimetype": "text/x-python",
   "name": "python",
   "nbconvert_exporter": "python",
   "pygments_lexer": "ipython3",
   "version": "3.6.0"
  }
 },
 "nbformat": 4,
 "nbformat_minor": 2
}
