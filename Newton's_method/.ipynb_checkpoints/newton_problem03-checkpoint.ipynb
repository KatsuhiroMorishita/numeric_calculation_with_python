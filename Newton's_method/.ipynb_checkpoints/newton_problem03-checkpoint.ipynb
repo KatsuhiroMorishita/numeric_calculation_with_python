{
 "cells": [
  {
   "cell_type": "markdown",
   "metadata": {},
   "source": [
    "# 出題内容\n",
    "y = x^4 + 3の様に、y=0における実数の解を持たない方程式を解く場合において、ニュートン法で解を求めるプログラムが\"解なし\"という文字列を返す様にプログラムを改造せよ。"
   ]
  },
  {
   "cell_type": "code",
   "execution_count": 3,
   "metadata": {
    "collapsed": false
   },
   "outputs": [
    {
     "name": "stdout",
     "output_type": "stream",
     "text": [
      "18625.46513684695 1000\n",
      "y = 0との交点xは、 18625.46513684695\n"
     ]
    }
   ],
   "source": [
    "# 改造前\n",
    "import numpy as np\n",
    "import matplotlib.pyplot as plt\n",
    "\n",
    "def f(x):\n",
    "    return x**4 +3\n",
    "\n",
    "def diff(func, x, dx): # funcは微分したい方程式の値を返す関数\n",
    "    return (func(x + dx) - func(x)) / dx\n",
    "\n",
    "def calc_newton(func, x_init, dx): # 汎用ニュートン法で解を求める関数\n",
    "    x = x_init\n",
    "    y = float(\"inf\")\n",
    "    count = 0\n",
    "    e = 1.0\n",
    "\n",
    "    while abs(y) > 0.01 and count < 1000 and e > 0.00001:\n",
    "        y = func(x)\n",
    "        dydx = diff(func, x, dx)\n",
    "        new_x = -y / dydx + x\n",
    "        e = abs(new_x - x) / (abs(x) + 0.0000000001)\n",
    "        x = new_x\n",
    "        count += 1\n",
    "\n",
    "    print(x, count) # 使う時にはコメントアウトした方が良い\n",
    "    return x\n",
    "\n",
    "\n",
    "def main():\n",
    "    pos_x = calc_newton(f, 4, 0.01) # 交点のx座標を求める。\n",
    "    print(\"y = 0との交点xは、\", pos_x)\n",
    "        \n",
    "if __name__ == \"__main__\":\n",
    "    main()"
   ]
  },
  {
   "cell_type": "markdown",
   "metadata": {},
   "source": [
    "↑は解が収束していない。"
   ]
  },
  {
   "cell_type": "code",
   "execution_count": 4,
   "metadata": {
    "collapsed": false
   },
   "outputs": [
    {
     "name": "stdout",
     "output_type": "stream",
     "text": [
      "18625.46513684695 1000\n",
      "y = 0との交点xは、 解なし\n"
     ]
    }
   ],
   "source": [
    "# 解答例\n",
    "import numpy as np\n",
    "import matplotlib.pyplot as plt\n",
    "\n",
    "def f(x):\n",
    "    return x**4 +3\n",
    "\n",
    "def diff(func, x, dx): # funcは微分したい方程式の値を返す関数\n",
    "    return (func(x + dx) - func(x)) / dx\n",
    "\n",
    "def calc_newton(func, x_init, dx): # 汎用ニュートン法で解を求める関数\n",
    "    x = x_init\n",
    "    y = float(\"inf\")\n",
    "    count = 0\n",
    "    e = 1.0\n",
    "\n",
    "    while abs(y) > 0.01 and count < 1000 and e > 0.00001:\n",
    "        y = func(x)\n",
    "        dydx = diff(func, x, dx)\n",
    "        new_x = -y / dydx + x\n",
    "        e = abs(new_x - x) / (abs(x) + 0.0000000001)\n",
    "        x = new_x\n",
    "        count += 1\n",
    "\n",
    "    print(x, count) # 使う時にはコメントアウトした方が良い\n",
    "    \n",
    "    if count >= 1000:\n",
    "        return \"解なし\"   # 文字列を返すより、float(\"nan\")を返した方が良いかもしれない\n",
    "    else:\n",
    "        return x\n",
    "\n",
    "\n",
    "def main():\n",
    "    pos_x = calc_newton(f, 4, 0.01) # 交点のx座標を求める。\n",
    "    print(\"y = 0との交点xは、\", pos_x)\n",
    "        \n",
    "if __name__ == \"__main__\":\n",
    "    main()"
   ]
  },
  {
   "cell_type": "code",
   "execution_count": null,
   "metadata": {
    "collapsed": true
   },
   "outputs": [],
   "source": []
  }
 ],
 "metadata": {
  "kernelspec": {
   "display_name": "Python 3",
   "language": "python",
   "name": "python3"
  },
  "language_info": {
   "codemirror_mode": {
    "name": "ipython",
    "version": 3
   },
   "file_extension": ".py",
   "mimetype": "text/x-python",
   "name": "python",
   "nbconvert_exporter": "python",
   "pygments_lexer": "ipython3",
   "version": "3.6.0"
  }
 },
 "nbformat": 4,
 "nbformat_minor": 2
}
