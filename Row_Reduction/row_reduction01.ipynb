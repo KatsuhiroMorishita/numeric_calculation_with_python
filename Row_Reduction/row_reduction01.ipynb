{
 "cells": [
  {
   "cell_type": "markdown",
   "metadata": {},
   "source": [
    "# 行列　連立方程式（掃き出し法を使って）\n",
    "* y=Axという式から、xを求める関数test()を実装せよ\n",
    "* ここで、yとxはベクトルで、Aは行列である。Aの行数はxの要素数と一致している\n",
    "* ひな形において、yと返り値は1次元のndarray型で、Aは2次元のndarray型である\n",
    "\n",
    "\n"
   ]
  },
  {
   "cell_type": "code",
   "execution_count": 2,
   "metadata": {
    "collapsed": false
   },
   "outputs": [
    {
     "name": "stdout",
     "output_type": "stream",
     "text": [
      "ひな形 <class 'str'>\n"
     ]
    }
   ],
   "source": [
    "# ひな形\n",
    "import numpy as np\n",
    "\n",
    "def test(y, A):\n",
    "    x = \"ひな形\"\n",
    "    return x\n",
    "\n",
    "\n",
    "def main():\n",
    "    _A = np.array([\n",
    "        [1.56643570078,1.32911176365,0.73140937093,-0.411202487446,-0.674708387985],\n",
    "        [-0.708206402195,0.0702946024849,-1.0088049261,2.22577123644,0.342819407632],\n",
    "        [-1.67743405106,0.204380214122,1.32273365282,-0.0860998586315,1.34074825795],\n",
    "        [-0.332668637217,-0.27669162081,-0.139212295927,-1.10918129244,-1.74672854241],\n",
    "        [1.1803024348,0.834533377899,0.748022241639,-0.144634799253,0.446805362633]])\n",
    "    _y = np.array([ 2.59268564, -2.2796545,   3.19964691, -0.88752875,  2.42416633])\n",
    "    _x = test(_y, _A)\n",
    "    \n",
    "        \n",
    "if __name__ == \"__main__\":\n",
    "    main()"
   ]
  },
  {
   "cell_type": "code",
   "execution_count": 15,
   "metadata": {
    "collapsed": false
   },
   "outputs": [
    {
     "name": "stdout",
     "output_type": "stream",
     "text": [
      "[-0.13791728  1.42398666  1.4439647  -0.54139363  0.53751362] <class 'numpy.ndarray'>\n"
     ]
    }
   ],
   "source": [
    "# 解答例\n",
    "import copy\n",
    "import numpy as np\n",
    "\n",
    "\n",
    "def search_max_coef(i, matrix):\n",
    "    \"\"\" i行目以降で、i列の値が最大となる行番号を返す\n",
    "    \"\"\"\n",
    "    col = [abs(row[i]) for row in matrix]  # 列の取り出しと、絶対値化\n",
    "    col = col[i:]                        # スライスして、不要な情報を削除\n",
    "    _max = max(col)              # 最大値を取得\n",
    "    k = col.index(_max) + i   # 最大値をもつ行番号を計算\n",
    "    return k\n",
    "\n",
    "def switch_row(i1, i2, matrix):\n",
    "    \"\"\" i1行とi2行を入れ替えた行列を返す\n",
    "    \"\"\"\n",
    "    _matrix = copy.deepcopy(matrix)   # 副作用を避けるために、まずコピー\n",
    "    _matrix[i1], _matrix[i2] = list(_matrix[i2]), list(_matrix[i1]) # lits(list型オブジェクト)で、新しいlist型変数が作成される\n",
    "    return _matrix\n",
    "\n",
    "def get_x(vect_y, matrix_A):  # matrix_Aはlist型のネスト構造の正方行列\n",
    "    matrix = copy.deepcopy(matrix_A)  # 中の値を含めて、コピー\n",
    "    for i in range(len(matrix)):\n",
    "        matrix[i].append(vect_y[i])  # 行列にベクトルの値を追加\n",
    "\n",
    "    m = len(matrix)  # 行数\n",
    "    n = len(matrix[0])  # 列数はm+1のはずだが、逆行列への応用を考えて、こう宣言する\n",
    "\n",
    "    for i in range(m):\n",
    "        # step 0\n",
    "        k = search_max_coef(i, matrix)\n",
    "        matrix = switch_row(i, k, matrix)\n",
    "\n",
    "        # step 1\n",
    "        c = matrix[i][i]\n",
    "        for j in range(n):\n",
    "            matrix[i][j] /= c\n",
    "\n",
    "        # step 2\n",
    "        for i2 in range(m):\n",
    "            if i != i2:\n",
    "                c = matrix[i2][i]\n",
    "                for j in range(n):\n",
    "                    matrix[i2][j] -= matrix[i][j] * c\n",
    "\n",
    "        #print(np.array(matrix))  # 確認用. ndarrayに変換しているのはprintした後の見た目の問題\n",
    "\n",
    "    return [matrix[i][-1] for i in range(m)]  # -1を指定すると最後の要素を指す\n",
    "\n",
    "\n",
    "\n",
    "def test(y, A):\n",
    "    #print(y, type(y))           # 引数で渡された変数の中身と型の確認。確認後はコメントアウト\n",
    "    #print(A, type(A))\n",
    "    \n",
    "    A = [list(a) for a in A]   # get_xの引数のmatrix_Aは1行1行がlist型で在ることを想定しているので、中身をlist型に変換している\n",
    "    #print(A, type(A))          # 変換後のAの中身と型の確認。確認後はコメントアウト\n",
    "    x = get_x(y, A)             # 解のxを求める\n",
    "    x = np.array(x)              # 問題文では返り値にndarray型を求めているので、list型をndarray型に変換\n",
    "    return x\n",
    "\n",
    "\n",
    "def main():\n",
    "    _A = np.array([\n",
    "        [1.56643570078,1.32911176365,0.73140937093,-0.411202487446,-0.674708387985],\n",
    "        [-0.708206402195,0.0702946024849,-1.0088049261,2.22577123644,0.342819407632],\n",
    "        [-1.67743405106,0.204380214122,1.32273365282,-0.0860998586315,1.34074825795],\n",
    "        [-0.332668637217,-0.27669162081,-0.139212295927,-1.10918129244,-1.74672854241],\n",
    "        [1.1803024348,0.834533377899,0.748022241639,-0.144634799253,0.446805362633]])\n",
    "    _y = np.array([ 2.59268564, -2.2796545,   3.19964691, -0.88752875,  2.42416633])\n",
    "    \n",
    "    _x = test(_y, _A)     # xを求める\n",
    "    print(_x, type(_x))  # 答えは[-0.138  1.42  1.44 -0.54  0.54]に近い。型の情報がndarrayであればOK\n",
    "    \n",
    "        \n",
    "if __name__ == \"__main__\":\n",
    "    main()"
   ]
  },
  {
   "cell_type": "code",
   "execution_count": null,
   "metadata": {
    "collapsed": true
   },
   "outputs": [],
   "source": []
  }
 ],
 "metadata": {
  "kernelspec": {
   "display_name": "Python 3",
   "language": "python",
   "name": "python3"
  },
  "language_info": {
   "codemirror_mode": {
    "name": "ipython",
    "version": 3
   },
   "file_extension": ".py",
   "mimetype": "text/x-python",
   "name": "python",
   "nbconvert_exporter": "python",
   "pygments_lexer": "ipython3",
   "version": "3.6.0"
  }
 },
 "nbformat": 4,
 "nbformat_minor": 2
}
