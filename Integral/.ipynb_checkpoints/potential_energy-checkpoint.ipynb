{
 "cells": [
  {
   "attachments": {},
   "cell_type": "markdown",
   "metadata": {},
   "source": [
    "# 出題内容\n",
    "真空中に電子が2つある。これらを無限遠から距離min_x [m]まで接近させたい。接近に要するエネルギーU[J]を求める関数を作成せよ。ここで、距離r[m]において電荷に働く力[N]の式を上に示す。また、2つの電荷を結ぶ直線をx軸としたときの、微小変位dxと微小エネルギーdUの式も示す。なお、誤差を減らすために、台形積分を用いよ。\n",
    "![数式](WSBT000350.JPG)"
   ]
  },
  {
   "cell_type": "code",
   "execution_count": 53,
   "metadata": {},
   "outputs": [
    {
     "name": "stdout",
     "output_type": "stream",
     "text": [
      "-4.56841796792e-26\n",
      "4.56841796792e-26\n",
      "4.56841796787e-26\n",
      "-4.56841796787e-26\n"
     ]
    }
   ],
   "source": [
    "# 解答例\n",
    "import numpy as np\n",
    "import matplotlib.pyplot as plt\n",
    "\n",
    "def F(r, q1, q2):\n",
    "    \"\"\" クーロン力を返す\n",
    "    \"\"\"\n",
    "    p = 8.854 * 10**-12 # 真空の誘電率(permittivity)\n",
    "    return 1 / (4 * np.pi * p) * q1 * q2 / (r**2)\n",
    "\n",
    "def U(x1, x2, q1, q2, dx): \n",
    "    \"\"\" x1からx2まで動かすことを想定した位置エネルギーを返す\n",
    "    dx: 変位の微小変化量[m]\n",
    "    \"\"\"\n",
    "    if x1 > x2:\n",
    "        dx = -abs(dx)\n",
    "    x = np.arange(x1, x2, dx)\n",
    "    u = (F(x + dx, q1, q2) + F(x, q1, q2)) / 2.0 # 正なら、反発する力\n",
    "    U = -np.sum(u) * dx # 本当はベクトル演算した方が良いのだろうけど、符号の処理で逃げる\n",
    "    return U\n",
    "\n",
    "def test_F(): # 関数Fを検査する関数\n",
    "    e = -1.6021766208 * 10**-19 # 電子の電荷量[C]\n",
    "    dx = 0.001\n",
    "    x = np.arange(dx, 0.5, dx)\n",
    "    y = F(x, e, e)\n",
    "    plt.plot(x, y)\n",
    "    plt.yscale(\"log\") # 縦軸を対数軸にする\n",
    "    plt.grid()\n",
    "    plt.show()\n",
    "    \n",
    "def main():  \n",
    "    e = -1.6021766208 * 10**-19 # 電子の電荷量[C]\n",
    "    dx = 0.0001   # dxの変化が解に影響がなくなるほど小さければ、dxは十分に小さい\n",
    "    print(U(0.005, 0.5, e, e, dx))  # 遠ざかるパターン\n",
    "    print(U(0.005, 0.5, e, -e, dx))\n",
    "    print(U(0.5, 0.005, e, e, dx))  # 接近するパターン\n",
    "    print(U(0.5, 0.005, e, -e, dx))\n",
    "    \n",
    "    test_F() # テストが不要ならコメントアウト\n",
    "\n",
    "        \n",
    "if __name__ == \"__main__\":\n",
    "    main()\n"
   ]
  },
  {
   "cell_type": "code",
   "execution_count": null,
   "metadata": {
    "collapsed": true
   },
   "outputs": [],
   "source": []
  }
 ],
 "metadata": {
  "kernelspec": {
   "display_name": "Python 3",
   "language": "python",
   "name": "python3"
  },
  "language_info": {
   "codemirror_mode": {
    "name": "ipython",
    "version": 3
   },
   "file_extension": ".py",
   "mimetype": "text/x-python",
   "name": "python",
   "nbconvert_exporter": "python",
   "pygments_lexer": "ipython3",
   "version": "3.6.1"
  }
 },
 "nbformat": 4,
 "nbformat_minor": 2
}
