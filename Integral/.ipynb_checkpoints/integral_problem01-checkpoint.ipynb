{
 "cells": [
  {
   "cell_type": "markdown",
   "metadata": {},
   "source": [
    "# 出題内容\n",
    "以下の式において、−10≤𝑥≤10の範囲で積分せよ。\n",
    "\n",
    "![数式](integral_p01_1.jpg)"
   ]
  },
  {
   "cell_type": "code",
   "execution_count": 6,
   "metadata": {},
   "outputs": [
    {
     "name": "stdout",
     "output_type": "stream",
     "text": [
      "積分値は、 55008.8651748\n"
     ]
    },
    {
     "data": {
      "image/png": "[encoded data removed]",
      "text/plain": [
       "<matplotlib.figure.Figure at 0x22771b93eb8>"
      ]
     },
     "metadata": {},
     "output_type": "display_data"
    }
   ],
   "source": [
    "# (1)の解答例\n",
    "import numpy as np\n",
    "import matplotlib.pyplot as plt\n",
    "\n",
    "\n",
    "def func(x):\n",
    "    \"\"\" 式(1)の計算結果を返す\n",
    "    \"\"\"\n",
    "    return (3.9**x) * (np.sin(x)**3)\n",
    "\n",
    "def integral(f, x1, x2, dx): # 定積分（汎用）\n",
    "    \"\"\" x1からx2までの定積分を返す\n",
    "    f: 積分したい関数\n",
    "    dx: xの微小変化量\n",
    "    \"\"\"\n",
    "    x = np.arange(x1, x2, dx)\n",
    "    ds = (f(x + dx) + f(x)) / 2.0 * dx # 台形積分するつもりで、その微小面積dsを求める\n",
    "    s = np.sum(ds) # 面積\n",
    "    return s\n",
    "\n",
    "\n",
    "def main():  \n",
    "    x1, x2, dx = -10, 10, 0.01 # 積分範囲と、微小量\n",
    "    print(\"積分値は、\", integral(func, x1, x2, dx))\n",
    "    \n",
    "    # グラフ作成\n",
    "    x = np.arange(x1, x2, dx)\n",
    "    y = func(x)\n",
    "    plt.plot(x, y)\n",
    "    plt.grid()\n",
    "    plt.show()\n",
    "\n",
    "        \n",
    "if __name__ == \"__main__\":\n",
    "    main()\n",
    "\n"
   ]
  },
  {
   "cell_type": "code",
   "execution_count": 10,
   "metadata": {},
   "outputs": [
    {
     "name": "stdout",
     "output_type": "stream",
     "text": [
      "積分値は、 2933.335\n"
     ]
    },
    {
     "data": {
      "image/png": "[encoded data removed]",
      "text/plain": [
       "<matplotlib.figure.Figure at 0x22772522e80>"
      ]
     },
     "metadata": {},
     "output_type": "display_data"
    }
   ],
   "source": [
    "# (2)の解答例\n",
    "import numpy as np\n",
    "import matplotlib.pyplot as plt\n",
    "\n",
    "\n",
    "a, b, c = 5, -6, -20 # 係数はテキトーに決めた\n",
    "\n",
    "def func(x):\n",
    "    \"\"\" 式(2)の計算結果を返す\n",
    "    \"\"\"\n",
    "    return a * x**2 + b * x + c  # 関数内に宣言されていない変数はその外のものが使われる\n",
    "\n",
    "def integral(f, x1, x2, dx): # 定積分（汎用）\n",
    "    \"\"\" x1からx2までの定積分を返す\n",
    "    f: 積分したい関数\n",
    "    dx: xの微小変化量\n",
    "    \"\"\"\n",
    "    x = np.arange(x1, x2, dx)\n",
    "    ds = (f(x + dx) + f(x)) / 2.0 * dx # 台形積分するつもりで、その微小面積dsを求める\n",
    "    s = np.sum(ds) # 面積\n",
    "    return s\n",
    "\n",
    "\n",
    "def main():  \n",
    "    x1, x2, dx = -10, 10, 0.01 # 積分範囲と、微小量\n",
    "    print(\"積分値は、\", integral(func, x1, x2, dx))\n",
    "    \n",
    "    # グラフ作成\n",
    "    x = np.arange(x1, x2, dx)\n",
    "    y = func(x)\n",
    "    plt.plot(x, y)\n",
    "    plt.grid()\n",
    "    plt.show()\n",
    "\n",
    "        \n",
    "if __name__ == \"__main__\":\n",
    "    main()\n"
   ]
  },
  {
   "cell_type": "code",
   "execution_count": null,
   "metadata": {
    "collapsed": true
   },
   "outputs": [],
   "source": []
  }
 ],
 "metadata": {
  "kernelspec": {
   "display_name": "Python 3",
   "language": "python",
   "name": "python3"
  },
  "language_info": {
   "codemirror_mode": {
    "name": "ipython",
    "version": 3
   },
   "file_extension": ".py",
   "mimetype": "text/x-python",
   "name": "python",
   "nbconvert_exporter": "python",
   "pygments_lexer": "ipython3",
   "version": "3.6.1"
  }
 },
 "nbformat": 4,
 "nbformat_minor": 2
}
