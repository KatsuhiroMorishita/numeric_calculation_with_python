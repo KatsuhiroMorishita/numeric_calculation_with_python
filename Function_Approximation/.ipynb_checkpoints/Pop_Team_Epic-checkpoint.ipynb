{
 "cells": [
  {
   "cell_type": "markdown",
   "metadata": {},
   "source": [
    "# 関数近似　ポプテピピックの視聴率を近似する\n",
    "* data_popu.xlsxは2018冬アニメ「ポプテピピック」の視聴率の変化が記録されている（藤井調べ）\n",
    "* 日数を変数とする、視聴率を近似する5次関数の係数を求める関数test()を実装せよ\n",
    "* ここで、ひな形のtest()の返り値はfloat型を要素とするリスト型とする\n",
    "\n",
    "データ：  \n",
    " [https://github.com/KatsuhiroMorishita/numeric_calculation_with_python/raw/master/Function_Approximation/data_popu.xlsx](https://github.com/KatsuhiroMorishita/numeric_calculation_with_python/raw/master/Function_Approximation/data_popu.xlsx)"
   ]
  },
  {
   "cell_type": "code",
   "execution_count": 2,
   "metadata": {
    "collapsed": false
   },
   "outputs": [
    {
     "data": {
      "text/html": [
       "<div>\n",
       "<table border=\"1\" class=\"dataframe\">\n",
       "  <thead>\n",
       "    <tr style=\"text-align: right;\">\n",
       "      <th></th>\n",
       "      <th>day</th>\n",
       "      <th>views</th>\n",
       "    </tr>\n",
       "  </thead>\n",
       "  <tbody>\n",
       "    <tr>\n",
       "      <th>0</th>\n",
       "      <td>1</td>\n",
       "      <td>105390</td>\n",
       "    </tr>\n",
       "    <tr>\n",
       "      <th>1</th>\n",
       "      <td>2</td>\n",
       "      <td>821372</td>\n",
       "    </tr>\n",
       "    <tr>\n",
       "      <th>2</th>\n",
       "      <td>3</td>\n",
       "      <td>513428</td>\n",
       "    </tr>\n",
       "    <tr>\n",
       "      <th>3</th>\n",
       "      <td>4</td>\n",
       "      <td>319247</td>\n",
       "    </tr>\n",
       "    <tr>\n",
       "      <th>4</th>\n",
       "      <td>5</td>\n",
       "      <td>285729</td>\n",
       "    </tr>\n",
       "    <tr>\n",
       "      <th>5</th>\n",
       "      <td>6</td>\n",
       "      <td>237992</td>\n",
       "    </tr>\n",
       "    <tr>\n",
       "      <th>6</th>\n",
       "      <td>7</td>\n",
       "      <td>194043</td>\n",
       "    </tr>\n",
       "    <tr>\n",
       "      <th>7</th>\n",
       "      <td>8</td>\n",
       "      <td>247506</td>\n",
       "    </tr>\n",
       "    <tr>\n",
       "      <th>8</th>\n",
       "      <td>9</td>\n",
       "      <td>196048</td>\n",
       "    </tr>\n",
       "    <tr>\n",
       "      <th>9</th>\n",
       "      <td>10</td>\n",
       "      <td>125040</td>\n",
       "    </tr>\n",
       "    <tr>\n",
       "      <th>10</th>\n",
       "      <td>11</td>\n",
       "      <td>99362</td>\n",
       "    </tr>\n",
       "    <tr>\n",
       "      <th>11</th>\n",
       "      <td>12</td>\n",
       "      <td>90353</td>\n",
       "    </tr>\n",
       "    <tr>\n",
       "      <th>12</th>\n",
       "      <td>13</td>\n",
       "      <td>74473</td>\n",
       "    </tr>\n",
       "    <tr>\n",
       "      <th>13</th>\n",
       "      <td>14</td>\n",
       "      <td>63351</td>\n",
       "    </tr>\n",
       "    <tr>\n",
       "      <th>14</th>\n",
       "      <td>15</td>\n",
       "      <td>96192</td>\n",
       "    </tr>\n",
       "    <tr>\n",
       "      <th>15</th>\n",
       "      <td>16</td>\n",
       "      <td>106870</td>\n",
       "    </tr>\n",
       "  </tbody>\n",
       "</table>\n",
       "</div>"
      ],
      "text/plain": [
       "    day   views\n",
       "0     1  105390\n",
       "1     2  821372\n",
       "2     3  513428\n",
       "3     4  319247\n",
       "4     5  285729\n",
       "5     6  237992\n",
       "6     7  194043\n",
       "7     8  247506\n",
       "8     9  196048\n",
       "9    10  125040\n",
       "10   11   99362\n",
       "11   12   90353\n",
       "12   13   74473\n",
       "13   14   63351\n",
       "14   15   96192\n",
       "15   16  106870"
      ]
     },
     "execution_count": 2,
     "metadata": {},
     "output_type": "execute_result"
    }
   ],
   "source": [
    "# ひとまず、色々と確認する\n",
    "# まずは、インターネット越しにExcelファイルの読み込みを試す\n",
    "import numpy as np\n",
    "import pandas as pd\n",
    "\n",
    "df = pd.read_excel(\"https://github.com/KatsuhiroMorishita/numeric_calculation_with_python/raw/master/Function_Approximation/data_popu.xlsx\")\n",
    "df\n"
   ]
  },
  {
   "cell_type": "markdown",
   "metadata": {},
   "source": [
    "↑ネット越しにExcelを読み込めた"
   ]
  },
  {
   "cell_type": "code",
   "execution_count": 6,
   "metadata": {
    "collapsed": false
   },
   "outputs": [
    {
     "name": "stdout",
     "output_type": "stream",
     "text": [
      "day      int64\n",
      "views    int64\n",
      "dtype: object\n",
      "[ 1  2  3  4  5  6  7  8  9 10 11 12 13 14 15 16]\n",
      "[105390 821372 513428 319247 285729 237992 194043 247506 196048 125040\n",
      "  99362  90353  74473  63351  96192 106870]\n"
     ]
    },
    {
     "data": {
      "image/png": "[encoded data removed]",
      "text/plain": [
       "<matplotlib.figure.Figure at 0x114a61eb8>"
      ]
     },
     "metadata": {},
     "output_type": "display_data"
    }
   ],
   "source": [
    "# データ型の確認と、取り出しのテスト\n",
    "import matplotlib.pyplot as plt\n",
    "%matplotlib inline\n",
    "\n",
    "# DataFrameの状態での列ごとのデータ型の確認\n",
    "print(df.dtypes)\n",
    "\n",
    "# データの取り出し\n",
    "days = np.array(df[\"day\"])\n",
    "views = np.array(df[\"views\"])\n",
    "print(days)\n",
    "print(views)\n",
    "\n",
    "# グラフ作成\n",
    "plt.plot(days, views)\n",
    "plt.show()"
   ]
  },
  {
   "cell_type": "markdown",
   "metadata": {},
   "source": [
    "↑うまく取り出せたので、これでひな形と解答例を作成する"
   ]
  },
  {
   "cell_type": "code",
   "execution_count": 29,
   "metadata": {
    "collapsed": false
   },
   "outputs": [
    {
     "name": "stdout",
     "output_type": "stream",
     "text": [
      "[0, 0, 0, 0, 0, 0]\n"
     ]
    }
   ],
   "source": [
    "# ひな形\n",
    "import numpy as np\n",
    "import pandas as pd\n",
    "from scipy.optimize import leastsq     # 最小二乗法を用いて、パラメータの最適化を行う関数をimport\n",
    "\n",
    "def test():\n",
    "    df = pd.read_excel(\"https://github.com/KatsuhiroMorishita/numeric_calculation_with_python/raw/master/Function_Approximation/data_popu.xlsx\")\n",
    "    param = [0] * 6    # 5次関数分のパラメータが入るリスト\n",
    "    return param\n",
    "\n",
    "def main():\n",
    "    print(test())      # 求められたパラメータが表示されるハズ\n",
    "\n",
    "if __name__ == \"__main__\":\n",
    "    main()"
   ]
  },
  {
   "cell_type": "code",
   "execution_count": 30,
   "metadata": {
    "collapsed": false
   },
   "outputs": [
    {
     "data": {
      "image/png": "[encoded data removed]",
      "text/plain": [
       "<matplotlib.figure.Figure at 0x116e37278>"
      ]
     },
     "metadata": {},
     "output_type": "display_data"
    },
    {
     "name": "stdout",
     "output_type": "stream",
     "text": [
      "[ -5.62776466e+05   1.10847194e+06  -3.66781934e+05   4.94529463e+04\n",
      "  -2.97269868e+03   6.59361147e+01]\n"
     ]
    }
   ],
   "source": [
    "# 解答例\n",
    "import numpy as np\n",
    "import pandas as pd\n",
    "from scipy.optimize import leastsq     # 最小二乗法を用いて、パラメータの最適化を行う関数をimport\n",
    "\n",
    "\n",
    "def get_y(param, x):\n",
    "    \"\"\" 5次関数\n",
    "    \"\"\"\n",
    "    p = param\n",
    "    y = p[5]*x**5 + p[4]*x**4 + p[3]*x**3 + p[2]*x**2 + p[1]*x + p[0]   # 演算子の優先度は、** > * >+\n",
    "    return y\n",
    "\n",
    "\n",
    "def approximate(func, x_values, y_values, q):\n",
    "    \"\"\" 関数近似の結果として、求めた係数をlistとして返す\n",
    "    func: 関数, param（これはlist型で、求めたい係数が入っている）とxを渡すとyを計算する関数\n",
    "    x_value: ndarray, x（軸方向）の値が入っている\n",
    "    y_value: ndarray, y（軸方向）の値が入っている。標本値\n",
    "    q: int, 求めたい係数の数\n",
    "    \"\"\"\n",
    "    def fit_func(param, x, y):\n",
    "        residual = y - func(param, x)\n",
    "        return residual\n",
    "\n",
    "    param = [0.] *  q\n",
    "    param_answer = leastsq(fit_func, param, args=(x_values, y_values))\n",
    "    return param_answer[0]\n",
    "\n",
    "\n",
    "def test():\n",
    "    # データの読み込み\n",
    "    df = pd.read_excel(\"https://github.com/KatsuhiroMorishita/numeric_calculation_with_python/raw/master/Function_Approximation/data_popu.xlsx\")\n",
    "    \n",
    "    # データの取り出し\n",
    "    x = np.array(df[\"day\"])\n",
    "    y = np.array(df[\"views\"])\n",
    "\n",
    "    # 係数を求める\n",
    "    param = approximate(get_y, x, y, 6)    # 5次関数近似のパラメータ数は6\n",
    "    \n",
    "    # 推定された関数と、元データを使ってグラフ作成（確認したらコメントアウト）\n",
    "    #_y = get_y(param, x)\n",
    "    #plt.scatter(x, y)             # 元データの散布図\n",
    "    #plt.plot(x, _y)                # 推定されたパラメータを使った折れ線グラフ\n",
    "    #plt.show()\n",
    "    \n",
    "    return param\n",
    "\n",
    "\n",
    "def main():\n",
    "    print(test())      # 求められたパラメータが表示されるハズ\n",
    "\n",
    "if __name__ == \"__main__\":\n",
    "    main()"
   ]
  },
  {
   "cell_type": "code",
   "execution_count": null,
   "metadata": {
    "collapsed": true
   },
   "outputs": [],
   "source": []
  }
 ],
 "metadata": {
  "kernelspec": {
   "display_name": "Python 3",
   "language": "python",
   "name": "python3"
  },
  "language_info": {
   "codemirror_mode": {
    "name": "ipython",
    "version": 3
   },
   "file_extension": ".py",
   "mimetype": "text/x-python",
   "name": "python",
   "nbconvert_exporter": "python",
   "pygments_lexer": "ipython3",
   "version": "3.6.0"
  }
 },
 "nbformat": 4,
 "nbformat_minor": 2
}
