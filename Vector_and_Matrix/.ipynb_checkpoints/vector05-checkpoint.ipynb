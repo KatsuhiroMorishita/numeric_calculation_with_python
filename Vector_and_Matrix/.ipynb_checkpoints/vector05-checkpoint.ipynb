{
 "cells": [
  {
   "cell_type": "markdown",
   "metadata": {},
   "source": [
    "# ベクトル　直交するベクトルを作る\n",
    "* 引数で渡されたベクトルに直交するベクトルを作成して返す関数test()を実装せよ\n",
    "* ひな形におけるtest()の引数yと返り値は1次元のndarray型とする\n",
    "\n",
    "\\begin{equation*}\n",
    "\\vec{x}=\n",
    "\\begin{pmatrix}\n",
    "x_{1}  \\\\\n",
    "x_{2}  \\\\\n",
    "x_{3} \n",
    "\\end{pmatrix}\n",
    "\\end{equation*}  \n",
    "\n",
    "から\n",
    "\n",
    "\\begin{equation*}\n",
    "\\vec{y}=\n",
    "\\begin{pmatrix}\n",
    "y_{1}  \\\\\n",
    "y_{2}  \\\\\n",
    "y_{3} \n",
    "\\end{pmatrix}\n",
    "\\end{equation*} \n",
    "\n",
    "をつくる。\n",
    "\n",
    "ここで、\n",
    "\n",
    "\\begin{equation*}\n",
    "\\vec{x} \\cdot \\vec{y} = 0\n",
    "\\end{equation*}"
   ]
  },
  {
   "cell_type": "code",
   "execution_count": 5,
   "metadata": {
    "collapsed": false
   },
   "outputs": [
    {
     "name": "stdout",
     "output_type": "stream",
     "text": [
      "ひな形\n"
     ]
    },
    {
     "ename": "TypeError",
     "evalue": "ufunc 'multiply' did not contain a loop with signature matching types dtype('<U21') dtype('<U21') dtype('<U21')",
     "output_type": "error",
     "traceback": [
      "\u001b[0;31m---------------------------------------------------------------------------\u001b[0m",
      "\u001b[0;31mTypeError\u001b[0m                                 Traceback (most recent call last)",
      "\u001b[0;32m<ipython-input-5-3e21637ca119>\u001b[0m in \u001b[0;36m<module>\u001b[0;34m()\u001b[0m\n\u001b[1;32m     13\u001b[0m \u001b[0;34m\u001b[0m\u001b[0m\n\u001b[1;32m     14\u001b[0m \u001b[0;32mif\u001b[0m \u001b[0m__name__\u001b[0m \u001b[0;34m==\u001b[0m \u001b[0;34m\"__main__\"\u001b[0m\u001b[0;34m:\u001b[0m\u001b[0;34m\u001b[0m\u001b[0m\n\u001b[0;32m---> 15\u001b[0;31m     \u001b[0mmain\u001b[0m\u001b[0;34m(\u001b[0m\u001b[0;34m)\u001b[0m\u001b[0;34m\u001b[0m\u001b[0m\n\u001b[0m",
      "\u001b[0;32m<ipython-input-5-3e21637ca119>\u001b[0m in \u001b[0;36mmain\u001b[0;34m()\u001b[0m\n\u001b[1;32m     10\u001b[0m     \u001b[0mv2\u001b[0m \u001b[0;34m=\u001b[0m \u001b[0mtest\u001b[0m\u001b[0;34m(\u001b[0m\u001b[0mv1\u001b[0m\u001b[0;34m)\u001b[0m\u001b[0;34m\u001b[0m\u001b[0m\n\u001b[1;32m     11\u001b[0m     \u001b[0mprint\u001b[0m\u001b[0;34m(\u001b[0m\u001b[0mv2\u001b[0m\u001b[0;34m)\u001b[0m\u001b[0;34m\u001b[0m\u001b[0m\n\u001b[0;32m---> 12\u001b[0;31m     \u001b[0mprint\u001b[0m\u001b[0;34m(\u001b[0m\u001b[0mv1\u001b[0m\u001b[0;34m.\u001b[0m\u001b[0mdot\u001b[0m\u001b[0;34m(\u001b[0m\u001b[0mv2\u001b[0m\u001b[0;34m)\u001b[0m\u001b[0;34m)\u001b[0m     \u001b[0;31m# 0.0になれば、直交している\u001b[0m\u001b[0;34m\u001b[0m\u001b[0m\n\u001b[0m\u001b[1;32m     13\u001b[0m \u001b[0;34m\u001b[0m\u001b[0m\n\u001b[1;32m     14\u001b[0m \u001b[0;32mif\u001b[0m \u001b[0m__name__\u001b[0m \u001b[0;34m==\u001b[0m \u001b[0;34m\"__main__\"\u001b[0m\u001b[0;34m:\u001b[0m\u001b[0;34m\u001b[0m\u001b[0m\n",
      "\u001b[0;31mTypeError\u001b[0m: ufunc 'multiply' did not contain a loop with signature matching types dtype('<U21') dtype('<U21') dtype('<U21')"
     ]
    }
   ],
   "source": [
    "#ひな形\n",
    "import numpy as np\n",
    "\n",
    "def test(x):\n",
    "    y = \"ひな形\"\n",
    "    return y\n",
    "\n",
    "def main():\n",
    "    v1 = np.array([1, 2, 3])\n",
    "    v2 = test(v1)  \n",
    "    print(v2)\n",
    "    print(v1.dot(v2))     # 0.0になれば、直交している\n",
    "\n",
    "if __name__ == \"__main__\":\n",
    "    main()"
   ]
  },
  {
   "cell_type": "markdown",
   "metadata": {},
   "source": [
    "## 考え方の例\n",
    "n次元ベクトルの内積は以下で計算できる。これが0に等しいベクトルの組は無数に存在するので、一番簡単なものを作る。\n",
    "\n",
    "\\begin{equation*}\n",
    "\\vec{x} \\cdot \\vec{y} = \n",
    "\\sum_{k=1}^{n} x_{k} y_{k}\n",
    "\\end{equation*}\n",
    "\n",
    "簡単な構造のベクトルyとして、以下を求める。\n",
    "\n",
    "\\begin{equation*}\n",
    "\\vec{y}=\n",
    "\\begin{pmatrix}\n",
    "1  \\\\\n",
    "1  \\\\\n",
    "\\vdots \\\\\n",
    "y_{n}  \\\\\n",
    "\\end{pmatrix}\n",
    "\\end{equation*} \n",
    "\n",
    "すなわち、\n",
    "\n",
    "\\begin{equation*}\n",
    "\\vec{x} \\cdot \\vec{y} = \n",
    "\\sum_{k=1}^{n-1} x_{k} y_{k} + x_{n} y_{n} = \\sum_{k=1}^{n-1} x_{k}  + x_{n} y_{n}  = 0  \\\\\n",
    "\\end{equation*}\n",
    "\n",
    "\n",
    "\\begin{equation*}\n",
    "y_{n}  = - \\frac{\\sum_{k=1}^{n-1} x_{k} }{x_{n}}\n",
    "\\end{equation*}"
   ]
  },
  {
   "cell_type": "code",
   "execution_count": 6,
   "metadata": {
    "collapsed": false
   },
   "outputs": [
    {
     "name": "stdout",
     "output_type": "stream",
     "text": [
      "[ 1.  1. -1.]\n",
      "0.0\n"
     ]
    }
   ],
   "source": [
    "#解答例\n",
    "import numpy as np\n",
    "\n",
    "def test(x):\n",
    "    y = [1] * len(x)    # 全要素が1のベクトルを作成（この時点ではlist型）\n",
    "    yn = - sum(x[:-1]) / x[-1]   # 分子はxの最後の要素以外の和で、分母はxの最後の要素\n",
    "    y[-1] = yn             # 最後の要素をynで上書き\n",
    "    y = np.array(y)     # ndarray型へ変換\n",
    "    return y\n",
    "\n",
    "def main():\n",
    "    v1 = np.array([1, 2, 3])\n",
    "    v2 = test(v1)  \n",
    "    print(v2)\n",
    "    print(v1.dot(v2))     # 0.0になれば、直交している\n",
    "\n",
    "if __name__ == \"__main__\":\n",
    "    main()"
   ]
  },
  {
   "cell_type": "code",
   "execution_count": null,
   "metadata": {
    "collapsed": true
   },
   "outputs": [],
   "source": []
  }
 ],
 "metadata": {
  "kernelspec": {
   "display_name": "Python 3",
   "language": "python",
   "name": "python3"
  },
  "language_info": {
   "codemirror_mode": {
    "name": "ipython",
    "version": 3
   },
   "file_extension": ".py",
   "mimetype": "text/x-python",
   "name": "python",
   "nbconvert_exporter": "python",
   "pygments_lexer": "ipython3",
   "version": "3.6.0"
  }
 },
 "nbformat": 4,
 "nbformat_minor": 2
}
