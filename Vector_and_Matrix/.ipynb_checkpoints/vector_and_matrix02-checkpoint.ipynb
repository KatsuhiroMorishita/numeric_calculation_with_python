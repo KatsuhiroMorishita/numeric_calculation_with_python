{
 "cells": [
  {
   "cell_type": "markdown",
   "metadata": {},
   "source": [
    "# 行列とベクトル　演算可能かどうか調べる\n",
    "* 引数で渡された行列Aとベクトルbを使って、Ab（行列とベクトルの積）が計算可能ならば1を、そうでなければ0を返す関数test()を実装せよ\n",
    "* ここで、引数のAはmatrix型変数、bは1次元のndarray型とする\n",
    "\n",
    "ヒント：Aの行数とbの要素数が一致していれば、Abは計算可能である。1次元ndarray型の変数の要素数は関数len()を使って得られるまた、matrix型変数は下記の様にshapeというプロパティを使って行数hと列数wを得ることができる。\n",
    "\n",
    "size = len(b)  \n",
    "h, w = A.shape"
   ]
  },
  {
   "cell_type": "code",
   "execution_count": 1,
   "metadata": {
    "collapsed": false
   },
   "outputs": [
    {
     "name": "stdout",
     "output_type": "stream",
     "text": [
      "--test01-- ひな形\n",
      "--test02-- ひな形\n"
     ]
    }
   ],
   "source": [
    "# ひな形\n",
    "import numpy as np\n",
    "\n",
    "def test(A, b):\n",
    "    y = \"ひな形\"\n",
    "    return y\n",
    "\n",
    "def main():\n",
    "    # サンプルのパラメータ（型は問題文の指定による）\n",
    "    _A = np.matrix([[1, 0], [2, 3]])      # 行列\n",
    "    _b = np.array([5, 7])                       # ベクトル\n",
    "    print(\"--test01--\", test(_A, _b))   # testの呼び出しと、結果の表示。1と表示されるはず\n",
    "    \n",
    "    _A = np.matrix([[1, 0], [2, 3]])      # 行列\n",
    "    _b = np.array([5, 7, 9])                   # ベクトル\n",
    "    print(\"--test02--\", test(_A, _b))   # testの呼び出しと、結果の表示。0と表示されるはず\n",
    "    \n",
    "        \n",
    "if __name__ == \"__main__\":    # スクリプトファイルとして実行した際に、main()を実行させる\n",
    "    main()"
   ]
  },
  {
   "cell_type": "code",
   "execution_count": 2,
   "metadata": {
    "collapsed": false,
    "scrolled": true
   },
   "outputs": [
    {
     "name": "stdout",
     "output_type": "stream",
     "text": [
      "--test01-- 1\n",
      "--test02-- 0\n"
     ]
    }
   ],
   "source": [
    "# 解答例\n",
    "import numpy as np\n",
    "\n",
    "def test(A, b):\n",
    "    size = len(b)\n",
    "    h, w = A.shape\n",
    "    \n",
    "    if size != h:\n",
    "        return 0\n",
    "    else:\n",
    "        return 1\n",
    "\n",
    "def main():\n",
    "    # サンプルのパラメータ（型は問題文の指定による）\n",
    "    _A = np.matrix([[1, 0], [2, 3]])      # 行列\n",
    "    _b = np.array([5, 7])                       # ベクトル\n",
    "    print(\"--test01--\", test(_A, _b))   # testの呼び出しと、結果の表示。1と表示されるはず\n",
    "    \n",
    "    _A = np.matrix([[1, 0], [2, 3]])      # 行列\n",
    "    _b = np.array([5, 7, 9])                   # ベクトル\n",
    "    print(\"--test02--\", test(_A, _b))   # testの呼び出しと、結果の表示。0と表示されるはず\n",
    "    \n",
    "        \n",
    "if __name__ == \"__main__\":    # スクリプトファイルとして実行した際に、main()を実行させる\n",
    "    main()"
   ]
  },
  {
   "cell_type": "code",
   "execution_count": null,
   "metadata": {
    "collapsed": true
   },
   "outputs": [],
   "source": []
  }
 ],
 "metadata": {
  "kernelspec": {
   "display_name": "Python 3",
   "language": "python",
   "name": "python3"
  },
  "language_info": {
   "codemirror_mode": {
    "name": "ipython",
    "version": 3
   },
   "file_extension": ".py",
   "mimetype": "text/x-python",
   "name": "python",
   "nbconvert_exporter": "python",
   "pygments_lexer": "ipython3",
   "version": "3.6.0"
  }
 },
 "nbformat": 4,
 "nbformat_minor": 2
}
