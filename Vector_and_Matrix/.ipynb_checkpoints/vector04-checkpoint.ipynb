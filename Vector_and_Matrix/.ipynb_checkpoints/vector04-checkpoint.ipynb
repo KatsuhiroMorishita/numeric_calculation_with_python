{
 "cells": [
  {
   "cell_type": "markdown",
   "metadata": {},
   "source": [
    "# ベクトル　平行か調べる\n",
    "* 引数で渡された2つのベクトルが平行であれば1を返し、そうでない場合は0を返す関数test()を実装せよ\n",
    "* ここで、ひな形のv1とv2は1次元のndarray型とし、test()の返り値はint型とする"
   ]
  },
  {
   "cell_type": "code",
   "execution_count": 4,
   "metadata": {
    "collapsed": false
   },
   "outputs": [
    {
     "name": "stdout",
     "output_type": "stream",
     "text": [
      "--test01-- ひな形\n",
      "--test02-- ひな形\n"
     ]
    }
   ],
   "source": [
    "# ひな形\n",
    "import numpy as np\n",
    "\n",
    "def test(v1, v2):\n",
    "    y = \"ひな形\"\n",
    "    return y\n",
    "\n",
    "def main():\n",
    "    # サンプルのパラメータ（型は問題文の指定による）\n",
    "    a = np.array([1, 0])                       # x-y座標平面における、x軸方向に1の長さを持つベクトル\n",
    "    b = np.array([0, 1])                      # x-y座標平面における、y軸方向に1の長さを持つベクトル\n",
    "    print(\"--test01--\", test(a, b))     # testの呼び出しと、結果の表示。0と表示されるはず\n",
    "    \n",
    "    a = np.array([1, 0]) \n",
    "    theta = 0.00001 / 180 * np.pi   # 角度の単位変換。degree -> radian\n",
    "    b = np.array([np.cos(theta), np.sin(theta)])    # x-y座標平面において、x軸方向から反時計回りに0.00001°回転した1の長さを持つベクトル\n",
    "    print(\"--test02--\", test(a, b))     # testの呼び出しと、結果の表示。ほぼ平行なので、平行とみなせば1と表示されるはず\n",
    "    \n",
    "        \n",
    "if __name__ == \"__main__\":    # スクリプトファイルとして実行した際に、main()を実行させる\n",
    "    main()"
   ]
  },
  {
   "cell_type": "code",
   "execution_count": 6,
   "metadata": {
    "collapsed": false
   },
   "outputs": [
    {
     "name": "stdout",
     "output_type": "stream",
     "text": [
      "--test01-- 0\n",
      "--test02-- 1\n"
     ]
    }
   ],
   "source": [
    "# 解答例\n",
    "import numpy as np\n",
    "\n",
    "def test(v1, v2):\n",
    "    # 内積の式を使って、2つのベクトルが作る角度thetaを求める。ここでは、角度を計算して角度から直交を判断する\n",
    "    cos_theta = v1.dot(v2) / (np.linalg.norm(v1) * np.linalg.norm(v2))   # 分母は内積。normはノルム（ベクトル長）\n",
    "    theta = np.arccos(cos_theta)       # numpy.arccos関数が返す値の定義域は0〜π（arcsinだと-π/2〜π/2なので注意）\n",
    "    theta = theta * 180 / np.pi            # 角度の単位変換。radian -> degree\n",
    "    #print(theta)                                    # 確認用に表示。確認したらコメントアウト\n",
    "    \n",
    "    if theta <= 0.01 or theta >=s 179.99:      # 実際の閾値は、取り組んでいる課題の制約から定めたほうが良い\n",
    "        return 1\n",
    "    else:\n",
    "        return 0\n",
    "\n",
    "def main():\n",
    "    # サンプルのパラメータ（型は問題文の指定による）\n",
    "    a = np.array([1, 0])                       # x-y座標平面における、x軸方向に1の長さを持つベクトル\n",
    "    b = np.array([0, 1])                      # x-y座標平面における、y軸方向に1の長さを持つベクトル\n",
    "    print(\"--test01--\", test(a, b))     # testの呼び出しと、結果の表示。0と表示されるはず\n",
    "    \n",
    "    a = np.array([1, 0]) \n",
    "    theta = 0.00001 / 180 * np.pi   # 角度の単位変換。degree -> radian\n",
    "    b = np.array([np.cos(theta), np.sin(theta)])    # x-y座標平面において、x軸方向から反時計回りに0.00001°回転した1の長さを持つベクトル\n",
    "    print(\"--test02--\", test(a, b))     # testの呼び出しと、結果の表示。ほぼ平行なので、平行とみなせば1と表示されるはず\n",
    "    \n",
    "        \n",
    "if __name__ == \"__main__\":    # スクリプトファイルとして実行した際に、main()を実行させる\n",
    "    main()"
   ]
  },
  {
   "cell_type": "code",
   "execution_count": null,
   "metadata": {
    "collapsed": true
   },
   "outputs": [],
   "source": []
  }
 ],
 "metadata": {
  "kernelspec": {
   "display_name": "Python 3",
   "language": "python",
   "name": "python3"
  },
  "language_info": {
   "codemirror_mode": {
    "name": "ipython",
    "version": 3
   },
   "file_extension": ".py",
   "mimetype": "text/x-python",
   "name": "python",
   "nbconvert_exporter": "python",
   "pygments_lexer": "ipython3",
   "version": "3.6.0"
  }
 },
 "nbformat": 4,
 "nbformat_minor": 2
}
