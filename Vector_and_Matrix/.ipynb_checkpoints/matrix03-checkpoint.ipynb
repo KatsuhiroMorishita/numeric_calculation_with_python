{
 "cells": [
  {
   "cell_type": "markdown",
   "metadata": {},
   "source": [
    "# 行列　連立方程式（numpyの逆行列を使って）\n",
    "* 以下の式において、yとAは既知とする。xを求める関数test()を実装せよ\n",
    "* ここで、yとxはベクトルで、Aは行列である。Aの行数はxの要素数と一致している\n",
    "* また、ひな形においてyとtest()の返り値は1次元のndarray型で、Aはmatrix型である\n",
    "\n",
    "\n",
    "\\begin{equation*}\n",
    "\\vec{y}=A\\vec{x}\n",
    "\\end{equation*}"
   ]
  },
  {
   "cell_type": "code",
   "execution_count": null,
   "metadata": {
    "collapsed": true
   },
   "outputs": [],
   "source": [
    "# ひな形\n",
    "import numpy as np\n",
    "\n",
    "def test(y, A):\n",
    "    x = \"ひな形\"\n",
    "    return x\n",
    "\n",
    "def main():\n",
    "    # サンプルのパラメータ（型は問題文の指定による）\n",
    "    y = np.array([1, 2, 3])\n",
    "    a = np.matrix(\n",
    "           [[ 0.05396288,  0.261556,    0.16012637],\n",
    "            [ 0.08309702,  0.80172185,  0.13203421],\n",
    "            [ 0.69138189,  0.53467751,  0.93737161]])\n",
    "\n",
    "    print(test(y, a))     # testの呼び出しと、結果の表示\n",
    "    # mainを実行した結果、以下の様に表示されればよい\n",
    "    #[-1.93908414  2.13340677  3.41376142]\n",
    "        \n",
    "if __name__ == \"__main__\":    # スクリプトファイルとして実行した際に、main()を実行させる\n",
    "    main()"
   ]
  },
  {
   "cell_type": "code",
   "execution_count": 3,
   "metadata": {
    "collapsed": false
   },
   "outputs": [
    {
     "name": "stdout",
     "output_type": "stream",
     "text": [
      "print 1:  <class 'numpy.matrixlib.defmatrix.matrix'> [[-1.93908414]\n",
      " [ 2.13340677]\n",
      " [ 3.41376142]]\n",
      "print 2:  <class 'numpy.ndarray'> [[-1.93908414  2.13340677  3.41376142]]\n",
      "print 3:  <class 'numpy.ndarray'> [-1.93908414  2.13340677  3.41376142]\n",
      "[-1.93908414  2.13340677  3.41376142]\n"
     ]
    }
   ],
   "source": [
    "# 解答例\n",
    "import numpy as np\n",
    "\n",
    "def test(y, A):\n",
    "    y = np.matrix(y).T    # ndarrayをmatrixに変換して、縦ベクトル化\n",
    "    x = A.I * y\n",
    "    #print(\"print 1: \", type(x), x)       # 計算結果の確認。確認後はコメントアウト\n",
    "    x = np.array(x.T)                         # 行ベクトルに変換した後、matrix型からndarray型へ変換\n",
    "    #print(\"print 2: \", type(x), x)       # 計算結果の確認。確認後はコメントアウト\n",
    "    x = x[0]                                         # xは1行n列の2次元配列になっているので、最初の1行目を取り出す\n",
    "    #print(\"print 3: \", type(x), x)       # 計算結果の確認。確認後はコメントアウト\n",
    "    return x\n",
    "\n",
    "def main():\n",
    "    # サンプルのパラメータ（型は問題文の指定による）\n",
    "    y = np.array([1, 2, 3])\n",
    "    a = np.matrix(\n",
    "           [[ 0.05396288,  0.261556,    0.16012637],\n",
    "            [ 0.08309702,  0.80172185,  0.13203421],\n",
    "            [ 0.69138189,  0.53467751,  0.93737161]])\n",
    "\n",
    "    print(test(y, a))     # testの呼び出しと、結果の表示\n",
    "    # mainを実行した結果、以下の様に表示されればよい\n",
    "    #[-1.93908414  2.13340677  3.41376142]\n",
    "        \n",
    "if __name__ == \"__main__\":    # スクリプトファイルとして実行した際に、main()を実行させる\n",
    "    main()"
   ]
  },
  {
   "cell_type": "code",
   "execution_count": null,
   "metadata": {
    "collapsed": true
   },
   "outputs": [],
   "source": []
  }
 ],
 "metadata": {
  "kernelspec": {
   "display_name": "Python 3",
   "language": "python",
   "name": "python3"
  },
  "language_info": {
   "codemirror_mode": {
    "name": "ipython",
    "version": 3
   },
   "file_extension": ".py",
   "mimetype": "text/x-python",
   "name": "python",
   "nbconvert_exporter": "python",
   "pygments_lexer": "ipython3",
   "version": "3.6.0"
  }
 },
 "nbformat": 4,
 "nbformat_minor": 2
}
