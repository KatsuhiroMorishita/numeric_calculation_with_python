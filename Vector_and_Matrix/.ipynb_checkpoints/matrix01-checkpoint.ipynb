{
 "cells": [
  {
   "cell_type": "markdown",
   "metadata": {},
   "source": [
    "# 行列　正方行列かどうか調べる\n",
    "* 引数で渡された行列Aが正方行列であれば1を、そうでなければ0を返す関数test()を実装せよ\n",
    "* ここで、引数のAはmatrix型変数とし、test()の返り値はint型とする\n",
    "\n",
    "ヒント：matrix型変数は、下記の様にshapeというプロパティを使って行数hと列数wを得ることができる。  \n",
    "h, w = A.shape"
   ]
  },
  {
   "cell_type": "code",
   "execution_count": 3,
   "metadata": {
    "collapsed": false
   },
   "outputs": [
    {
     "name": "stdout",
     "output_type": "stream",
     "text": [
      "--test01-- ひな形\n",
      "--test02-- ひな形\n"
     ]
    }
   ],
   "source": [
    "# ひな形\n",
    "import numpy as np\n",
    "\n",
    "def test(A):\n",
    "    y = \"ひな形\"\n",
    "    return y\n",
    "\n",
    "def main():\n",
    "    # サンプルのパラメータ（型は問題文の指定による）\n",
    "    _A = np.matrix([\n",
    "        [1, 0], \n",
    "        [2, 3]])      # 行列\n",
    "    _B = np.matrix([\n",
    "        [1, 0, 6], \n",
    "        [2, 3, 8]])      # 行列\n",
    "    print(\"--test01--\", test(_A))   # testの呼び出しと、結果の表示。1と表示されるはず\n",
    "    print(\"--test02--\", test(_B))   # testの呼び出しと、結果の表示。0と表示されるはず\n",
    "    \n",
    "        \n",
    "if __name__ == \"__main__\":    # スクリプトファイルとして実行した際に、main()を実行させる\n",
    "    main()"
   ]
  },
  {
   "cell_type": "code",
   "execution_count": null,
   "metadata": {
    "collapsed": true
   },
   "outputs": [],
   "source": [
    "# 解答例\n",
    "import numpy as np\n",
    "\n",
    "def test(A):\n",
    "    h, w = A.\n",
    "    return y\n",
    "\n",
    "def main():\n",
    "    # サンプルのパラメータ（型は問題文の指定による）\n",
    "    a = np.matrix([\n",
    "        [1, 0], \n",
    "        [2, 3]])      # 行列\n",
    "    b = np.matrix([\n",
    "        [1, 0, 6], \n",
    "        [2, 3, 8]])      # 行列\n",
    "    print(\"--test01--\", test(_A))   # testの呼び出しと、結果の表示。1と表示されるはず\n",
    "    print(\"--test02--\", test(_B))   # testの呼び出しと、結果の表示。0と表示されるはず\n",
    "    \n",
    "        \n",
    "if __name__ == \"__main__\":    # スクリプトファイルとして実行した際に、main()を実行させる\n",
    "    main()"
   ]
  },
  {
   "cell_type": "code",
   "execution_count": null,
   "metadata": {
    "collapsed": true
   },
   "outputs": [],
   "source": []
  }
 ],
 "metadata": {
  "kernelspec": {
   "display_name": "Python 3",
   "language": "python",
   "name": "python3"
  },
  "language_info": {
   "codemirror_mode": {
    "name": "ipython",
    "version": 3
   },
   "file_extension": ".py",
   "mimetype": "text/x-python",
   "name": "python",
   "nbconvert_exporter": "python",
   "pygments_lexer": "ipython3",
   "version": "3.6.0"
  }
 },
 "nbformat": 4,
 "nbformat_minor": 2
}
