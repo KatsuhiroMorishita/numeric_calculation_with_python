{
 "cells": [
  {
   "cell_type": "markdown",
   "metadata": {},
   "source": [
    "# ベクトル　その2\n",
    "* ベクトルaとベクトルbの作る角度θが10°以下であればTrueを返し、そうでなければFalseを返す関数test()を実装せよ\n",
    "* ここで、ひな形の関数test()の引数aとbは1次元のndarray型とする"
   ]
  },
  {
   "cell_type": "code",
   "execution_count": 4,
   "metadata": {},
   "outputs": [
    {
     "name": "stdout",
     "output_type": "stream",
     "text": [
      "--test01-- ひな形\n",
      "--test02-- ひな形\n"
     ]
    }
   ],
   "source": [
    "# ひな形\n",
    "import numpy as np\n",
    "\n",
    "def test(a, b):\n",
    "    y = \"ひな形\"\n",
    "    return y\n",
    "\n",
    "def main():\n",
    "    # サンプルのパラメータ（型は問題文の指定による）\n",
    "    a = np.array([1, 0])                       # x-y座標平面における、x軸方向に1の長さを持つベクトル\n",
    "    b = np.array([0, 1])                      # x-y座標平面における、y軸方向に1の長さを持つベクトル\n",
    "    print(\"--test01--\", test(a, b))     # testの呼び出しと、結果の表示。Falseと表示されるはず\n",
    "    \n",
    "    a = np.array([1, 0]) \n",
    "    theta = 5 / 180 * np.pi                 # 角度の単位変換。degree -> radian\n",
    "    b = np.array([np.cos(theta), np.sin(theta)])    # x-y座標平面において、x軸方向から反時計回りに5°回転した1の長さを持つベクトル\n",
    "    print(\"--test02--\", test(a, b))     # testの呼び出しと、結果の表示。Trueと表示されるはず\n",
    "    \n",
    "        \n",
    "if __name__ == \"__main__\":    # スクリプトファイルとして実行した際に、main()を実行させる\n",
    "    main()"
   ]
  },
  {
   "cell_type": "code",
   "execution_count": 7,
   "metadata": {},
   "outputs": [
    {
     "name": "stdout",
     "output_type": "stream",
     "text": [
      "--test01-- False\n",
      "--test02-- True\n"
     ]
    }
   ],
   "source": [
    "# 解答例\n",
    "import numpy as np\n",
    "\n",
    "def test(a, b):\n",
    "    # 内積の式を使って、2つのベクトルが作る角度thetaを求める\n",
    "    cos_theta = a.dot(b) / (np.linalg.norm(a) * np.linalg.norm(b))   # 分子は内積。normはノルム（ベクトル長）\n",
    "    theta = np.arccos(cos_theta)       # numpy.arccos関数が返す値の定義域は0〜π（arcsinだと-π/2〜π/2なので注意）\n",
    "    theta = theta * 180 / np.pi            # 角度の単位変換。radian -> degree\n",
    "    #print(theta)                                    # 確認用に表示。確認したらコメントアウト\n",
    "    \n",
    "    if theta <= 10:\n",
    "        return True\n",
    "    else:\n",
    "        return False\n",
    "\n",
    "def main():\n",
    "    # サンプルのパラメータ（型は問題文の指定による）\n",
    "    a = np.array([1, 0])                       # x-y座標平面における、x軸方向に1の長さを持つベクトル\n",
    "    b = np.array([0, 1])                      # x-y座標平面における、y軸方向に1の長さを持つベクトル\n",
    "    print(\"--test01--\", test(a, b))     # testの呼び出しと、結果の表示。Falseと表示されるはず\n",
    "    \n",
    "    a = np.array([1, 0]) \n",
    "    theta = 5 / 180 * np.pi                 # 角度の単位変換。degree -> radian\n",
    "    b = np.array([np.cos(theta), np.sin(theta)])    # x-y座標平面において、x軸方向から反時計回りに5°回転した1の長さを持つベクトル\n",
    "    print(\"--test02--\", test(a, b))     # testの呼び出しと、結果の表示。Trueと表示されるはず\n",
    "    \n",
    "        \n",
    "if __name__ == \"__main__\":    # スクリプトファイルとして実行した際に、main()を実行させる\n",
    "    main()"
   ]
  },
  {
   "cell_type": "code",
   "execution_count": null,
   "metadata": {
    "collapsed": true
   },
   "outputs": [],
   "source": []
  }
 ],
 "metadata": {
  "kernelspec": {
   "display_name": "Python 3",
   "language": "python",
   "name": "python3"
  },
  "language_info": {
   "codemirror_mode": {
    "name": "ipython",
    "version": 3
   },
   "file_extension": ".py",
   "mimetype": "text/x-python",
   "name": "python",
   "nbconvert_exporter": "python",
   "pygments_lexer": "ipython3",
   "version": "3.6.3"
  }
 },
 "nbformat": 4,
 "nbformat_minor": 2
}
