{
 "cells": [
  {
   "cell_type": "markdown",
   "metadata": {},
   "source": [
    "# 行列とベクトル　ベクトルと行列の計算01\n",
    "* 以下に示す式を計算しベクトルyを返す関数test()を実装せよ\n",
    "* ここで、ひな形におけるcはfloat型，Aはmatrix型，xは1次元のndarray型，test()が返す型はmatrix型とする(yを縦ベクトルとみなす）\n",
    "* （任意）ベクトルのサイズと行列のサイズが合わないために解が存在しない場合はNoneを返せ\n",
    "\n",
    "\n",
    "\\begin{equation*}\n",
    "\\vec{y}=cA\\vec{x}\n",
    "\\end{equation*}"
   ]
  },
  {
   "cell_type": "code",
   "execution_count": 5,
   "metadata": {
    "collapsed": false
   },
   "outputs": [
    {
     "name": "stdout",
     "output_type": "stream",
     "text": [
      "ひな形\n"
     ]
    }
   ],
   "source": [
    "# ひな形\n",
    "import numpy as np\n",
    "\n",
    "def test(c, A, x):\n",
    "    y = \"ひな形\"\n",
    "    return y\n",
    "\n",
    "def main():\n",
    "    # サンプルのパラメータ（型は問題文の指定による）\n",
    "    c = 3.55\n",
    "    a = np.matrix(\n",
    "           [[ 0.05396288,  0.261556,    0.16012637],\n",
    "            [ 0.08309702,  0.80172185,  0.13203421],\n",
    "            [ 0.69138189,  0.53467751,  0.93737161]])\n",
    "    x = np.array([1, 2, 3])\n",
    "\n",
    "    print(test(c, a, x))     # testの呼び出しと、結果の表示\n",
    "    # mainを実行した結果、以下の様に表示されればよい\n",
    "    #[[  3.75396166]\n",
    "    #[  7.39338389]\n",
    "    #[ 16.23362368]]\n",
    "        \n",
    "if __name__ == \"__main__\":    # スクリプトファイルとして実行した際に、main()を実行させる\n",
    "    main()"
   ]
  },
  {
   "cell_type": "code",
   "execution_count": 13,
   "metadata": {
    "collapsed": false
   },
   "outputs": [
    {
     "name": "stdout",
     "output_type": "stream",
     "text": [
      "[[  3.75396166]\n",
      " [  7.39338389]\n",
      " [ 16.23362368]]\n"
     ]
    }
   ],
   "source": [
    "# 解答例\n",
    "import copy\n",
    "import numpy as np\n",
    "\n",
    "def test(c, A, x):\n",
    "    # サイズのチェックで、計算可能か判断する\n",
    "    h, w = A.shape\n",
    "    if len(x) != h:\n",
    "        return None\n",
    "    \n",
    "    # 計算\n",
    "    x = np.matrix(x)      # 型の変換。1D ndarray -> matrix\n",
    "    x = x.T                      # 転置して、縦ベクトルに変換\n",
    "    y = c * A * x             # 指定されている計算の実施\n",
    "    #print(type(y), y)     # 型のチェックと中身の表示。確認後はコメントアウト\n",
    "    return y\n",
    "\n",
    "\n",
    "def main():\n",
    "    # サンプルのパラメータ（型は問題文の指定による）\n",
    "    c = 3.55\n",
    "    a = np.matrix(\n",
    "           [[ 0.05396288,  0.261556,    0.16012637],\n",
    "            [ 0.08309702,  0.80172185,  0.13203421],\n",
    "            [ 0.69138189,  0.53467751,  0.93737161]])\n",
    "    x = np.array([1, 2, 3])\n",
    "    \n",
    "    print(test(c, a, x))     # testの呼び出しと、結果の表示\n",
    "    # mainを実行した結果、以下の様に表示されればよい\n",
    "    #[[  3.75396166]\n",
    "    #[  7.39338389]\n",
    "    #[ 16.23362368]]\n",
    "    \n",
    "if __name__ == \"__main__\":   # スクリプトファイルとして実行した際に、main()を実行させる\n",
    "    main()"
   ]
  },
  {
   "cell_type": "code",
   "execution_count": null,
   "metadata": {
    "collapsed": true
   },
   "outputs": [],
   "source": []
  }
 ],
 "metadata": {
  "kernelspec": {
   "display_name": "Python 3",
   "language": "python",
   "name": "python3"
  },
  "language_info": {
   "codemirror_mode": {
    "name": "ipython",
    "version": 3
   },
   "file_extension": ".py",
   "mimetype": "text/x-python",
   "name": "python",
   "nbconvert_exporter": "python",
   "pygments_lexer": "ipython3",
   "version": "3.6.0"
  }
 },
 "nbformat": 4,
 "nbformat_minor": 2
}
