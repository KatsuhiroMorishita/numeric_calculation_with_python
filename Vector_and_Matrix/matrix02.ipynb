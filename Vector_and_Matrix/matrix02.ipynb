{
 "cells": [
  {
   "cell_type": "markdown",
   "metadata": {},
   "source": [
    "# 行列　逆行列\n",
    "* 引数で渡された行列Aの逆行列を返す関数test()を実装せよ\n",
    "* ただし、Aが正方行列ではない場合や、Aの行列式が0（ほぼ0）である場合にはNoneを返せ\n",
    "* test()の引数Aと返り値はmatrix型とする"
   ]
  },
  {
   "cell_type": "code",
   "execution_count": 4,
   "metadata": {
    "collapsed": false
   },
   "outputs": [
    {
     "name": "stdout",
     "output_type": "stream",
     "text": [
      "--test01-- ひな形\n",
      "--test02-- ひな形\n",
      "--test03-- ひな形\n"
     ]
    }
   ],
   "source": [
    "# ひな形\n",
    "import numpy as np\n",
    "\n",
    "def test(A):\n",
    "    y = \"ひな形\"\n",
    "    return y\n",
    "\n",
    "def main():\n",
    "    # サンプルのパラメータ（型は問題文の指定による）\n",
    "    a = np.matrix([\n",
    "        [1, 0], \n",
    "        [2, 3]])           # 行列\n",
    "    b = np.matrix([\n",
    "        [1, 0, 6], \n",
    "        [2, 3, 8]])      # 行列\n",
    "    c = np.matrix([\n",
    "        [1, 0], \n",
    "        [2, 0]])           # 行列\n",
    "    print(\"--test01--\", test(a))   # testの呼び出しと、結果の表示。行列が表示されるはず\n",
    "    print(\"--test02--\", test(b))   # testの呼び出しと、結果の表示。Noneと表示されるはず\n",
    "    print(\"--test03--\", test(c))   # testの呼び出しと、結果の表示。Noneと表示されるはず\n",
    "    \n",
    "        \n",
    "if __name__ == \"__main__\":    # スクリプトファイルとして実行した際に、main()を実行させる\n",
    "    main()"
   ]
  },
  {
   "cell_type": "code",
   "execution_count": 8,
   "metadata": {
    "collapsed": false
   },
   "outputs": [
    {
     "name": "stdout",
     "output_type": "stream",
     "text": [
      "--test01-- [[-2.   1. ]\n",
      " [ 1.5 -0.5]]\n",
      "--test02-- None\n",
      "--test03-- None\n"
     ]
    }
   ],
   "source": [
    "# 解答例\n",
    "import numpy as np\n",
    "\n",
    "def test(A):\n",
    "    # 正方行列であることを確認\n",
    "    h, w = A.shape\n",
    "    if h != w:\n",
    "        return None\n",
    "    \n",
    "    # 行列式のチェック\n",
    "    _det = np.linalg.det(A)     # 変数の前の_（アンダーバー）は、変数名を考えるときに面倒になってたまに使う\n",
    "    #print(\"det\", _det)             # 行列式の値の確認。確認後はコメントアウト\n",
    "    if abs(_det) < 0.0001:     # 現実的には、応用しようとしている課題の条件に合わせて閾値を決める\n",
    "        return None\n",
    "    \n",
    "    return A.I\n",
    "    \n",
    "\n",
    "def main():\n",
    "    # サンプルのパラメータ（型は問題文の指定による）\n",
    "    a = np.matrix([\n",
    "        [1, 2], \n",
    "        [3, 4]])           # 行列\n",
    "    b = np.matrix([\n",
    "        [1, 0, 6], \n",
    "        [2, 3, 8]])      # 行列\n",
    "    c = np.matrix([\n",
    "        [1, 0], \n",
    "        [2, 0]])           # 行列\n",
    "    print(\"--test01--\", test(a))   # testの呼び出しと、結果の表示。行列が表示されるはず\n",
    "    print(\"--test02--\", test(b))   # testの呼び出しと、結果の表示。Noneと表示されるはず\n",
    "    print(\"--test03--\", test(c))   # testの呼び出しと、結果の表示。Noneと表示されるはず\n",
    "    \n",
    "        \n",
    "if __name__ == \"__main__\":    # スクリプトファイルとして実行した際に、main()を実行させる\n",
    "    main()"
   ]
  },
  {
   "cell_type": "code",
   "execution_count": null,
   "metadata": {
    "collapsed": true
   },
   "outputs": [],
   "source": []
  }
 ],
 "metadata": {
  "kernelspec": {
   "display_name": "Python 3",
   "language": "python",
   "name": "python3"
  },
  "language_info": {
   "codemirror_mode": {
    "name": "ipython",
    "version": 3
   },
   "file_extension": ".py",
   "mimetype": "text/x-python",
   "name": "python",
   "nbconvert_exporter": "python",
   "pygments_lexer": "ipython3",
   "version": "3.6.0"
  }
 },
 "nbformat": 4,
 "nbformat_minor": 2
}
