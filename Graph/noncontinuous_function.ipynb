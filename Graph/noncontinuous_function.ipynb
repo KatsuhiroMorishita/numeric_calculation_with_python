{
 "cells": [
  {
   "cell_type": "markdown",
   "metadata": {},
   "source": [
    "# 出題内容\n",
    "以下のグラフに示す関数を実装し、グラフを作成せよ。ここで、xの定義域は0≦x≦1である。  \n",
    "\n",
    "![非線形関数のグラフ](WSBT000349.JPG \"サンプル\")"
   ]
  },
  {
   "cell_type": "code",
   "execution_count": 3,
   "metadata": {},
   "outputs": [
    {
     "data": {
      "image/png": "[encoded data removed]",
      "text/plain": [
       "<matplotlib.figure.Figure at 0x260bb730a20>"
      ]
     },
     "metadata": {},
     "output_type": "display_data"
    }
   ],
   "source": [
    "# 解答例\n",
    "import numpy as np\n",
    "import matplotlib.pyplot as plt # グラフの作成に必要\n",
    "\n",
    "def func1(x):\n",
    "    return 1/0.65 * x\n",
    "\n",
    "def func2(x):\n",
    "    return -1/0.35 * (x - 1)\n",
    "\n",
    "dx = 0.01\n",
    "x1 = np.arange(0, 0.65 + dx, dx) # 最後まで線を引っ張るために、0.65にdxを足している\n",
    "y1 = func1(x1)\n",
    "x2 = np.arange(0.65, 1.0 + dx, dx)\n",
    "y2 = func2(x2)\n",
    "\n",
    "# グラフの描画\n",
    "plt.plot(x1, y1)\n",
    "plt.plot(x2, y2)\n",
    "plt.grid()      # グリッドを表示させる\n",
    "plt.xlabel(\"x\") # 軸名を付ける\n",
    "plt.ylabel(\"y\")\n",
    "plt.show()"
   ]
  },
  {
   "cell_type": "code",
   "execution_count": null,
   "metadata": {
    "collapsed": true
   },
   "outputs": [],
   "source": []
  },
  {
   "cell_type": "code",
   "execution_count": null,
   "metadata": {
    "collapsed": true
   },
   "outputs": [],
   "source": []
  }
 ],
 "metadata": {
  "kernelspec": {
   "display_name": "Python 3",
   "language": "python",
   "name": "python3"
  },
  "language_info": {
   "codemirror_mode": {
    "name": "ipython",
    "version": 3
   },
   "file_extension": ".py",
   "mimetype": "text/x-python",
   "name": "python",
   "nbconvert_exporter": "python",
   "pygments_lexer": "ipython3",
   "version": "3.6.1"
  }
 },
 "nbformat": 4,
 "nbformat_minor": 2
}
